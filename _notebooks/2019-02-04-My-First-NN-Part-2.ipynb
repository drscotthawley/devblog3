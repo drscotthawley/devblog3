{
 "cells": [
  {
   "cell_type": "markdown",
   "metadata": {
    "colab_type": "text",
    "id": "SB1s7K40XOYy"
   },
   "source": [
    "# My First Neural Network, Part 2. Bias and CE Loss\n",
    "\n",
    "> Bias and cross-entropy loss\n",
    "- toc: true\n",
    "- branch: master\n",
    "- badges: true\n",
    "- comments: true\n",
    "- metadata_key1: metadata_value1\n",
    "- metadata_key2: metadata_value2\n",
    "- image: https://i.imgur.com/5CbsjVW.png\n",
    "- description: Bias and cross-entropy loss\n",
    "- redirect_to: https://drscotthawley.github.io/blog/2019/02/04/My-First-NN-Part-2.html"
   ]
  },
  {
   "cell_type": "markdown",
   "metadata": {
    "colab_type": "text",
    "id": "AFGL_ThJKJfM"
   },
   "source": [
    "Links to lessons:\n",
    "[Part 0](https://drscotthawley.github.io/Following-Gravity/),\n",
    "[Part 1](https://colab.research.google.com/drive/1CPueDKDYOC33U_0qHxBhsDPpzYMpD8c8), \n",
    "[Part 2](https://colab.research.google.com/drive/1O9xcdAQUxo7KdVhbggqLCvabc77Rj-yH),\n",
    "[Part 3](https://colab.research.google.com/drive/1UZDEK-3v-SWxpDYBfamBoD4xhy7H2DEZ#scrollTo=14tOCcvT_a0I)\n",
    "\n",
    "Moving on from our [our previous notebook](https://colab.research.google.com/drive/1CPueDKDYOC33U_0qHxBhsDPpzYMpD8c8), we will investigate three things we could do to improve the models developed previously:\n",
    "\n",
    "1. Add a bias term\n",
    "2. Use a different loss function\n",
    "3. Add more layers to the network *(postponed to next lesson)*\n",
    "\n",
    "\n",
    "## 1. Add a bias term\n",
    "Our weighted sums did not include any constant offset or \"bias\" term.  This may be fine for some data, but not for many others.\n",
    "For example, in a simple linear model $y = mx+b$, the choice of $b=0$ limits the model's ability to accurately fit some data.  \n",
    "\n",
    "![image of bias vs no biast](https://i.imgur.com/5CbsjVW.png)\n",
    "\n",
    "That is effectively what we did with our weighted sum $\\sum_j X_{ij}w_j$: there was no constant offset.   To correct this lack, we could add a new variable $b$ and make our weighted sum $b + \\sum_j X_{ij}w_j$.  Equivalently, and more conveniently for the purposes of coding, we could put an additional column of 1's in the input $X$, and a new row to our weight matrix $w$.  By convention, this is usually done with the zeroth element, so that $X_{i0}=1$ and the columns of $X$ are moved to the right, and $w_0 = b$ will be the new constant offset (because $1*w_0 = w_0$.)\n",
    "\n",
    "For the first problem (Trask's first problem), this change makes our new matrix equation look like (with new bias terms in red)\n",
    "\n",
    "\n",
    "$$\n",
    "f\\left(\n",
    "  \\overbrace{\n",
    " \\left[ {\\begin{array}{ccc}\n",
    "   \\color{red}1 & 0 & 0 & 1 \\\\\n",
    "   \\color{red}1 & 0 & 1 & 1\\\\\n",
    "   \\color{red}1 & 1 & 0 & 1\\\\\n",
    "   \\color{red}1 & 1 & 1 & 1\\\\\n",
    "  \\end{array} } \\right]\n",
    "}^\\text{X} \n",
    "\\overbrace{\n",
    "   \\left[ {\\begin{array}{c}\n",
    "   \\color{red}{w_0}  \\\\\n",
    "    w_1\\\\\n",
    "   w_2\\\\\n",
    "   w_3\n",
    "  \\end{array} } \\right]\n",
    " }^{w}\n",
    "\\right)\n",
    "  = \n",
    "  \\overbrace{\n",
    " \\left[ {\\begin{array}{c}\n",
    "   0   \\\\\n",
    "   0  \\\\\n",
    "   1  \\\\\n",
    "   1 \\\\\n",
    "  \\end{array} } \\right]\n",
    " }^{\\tilde{Y}}\n",
    "$$\n",
    "***Foreshadowing***: *Note that in this problem, the rightmost column of $X$ already was a column of all 1's, and so already has something akin to a bias.  Thus, adding a new column of all 1's will not add any information, and so for this problem we expect that adding the bias won't improve the model performance.)*\n",
    "\n",
    "With this change, we can still write our weighted sum as $\\sum_j X_{ij}w_j$, it's just that $j$ now runs  over 0..3 instead of 0..2.  To emphasize: We can leave the rest of our code the same as before, provided we change $X$ by adding a column of 1's. \n",
    "\n",
    "In terms of coding the change to $X$, we can either rewrite it by hand, or pull a numpy trick:"
   ]
  },
  {
   "cell_type": "code",
   "execution_count": 0,
   "metadata": {
    "colab": {
     "base_uri": "https://localhost:8080/",
     "height": 87
    },
    "colab_type": "code",
    "id": "LhFeqDrpc4CI",
    "outputId": "778b436e-d428-4223-f443-ed877697cc3b"
   },
   "outputs": [
    {
     "name": "stdout",
     "output_type": "stream",
     "text": [
      "[[1. 0. 0. 1.]\n",
      " [1. 0. 1. 1.]\n",
      " [1. 1. 0. 1.]\n",
      " [1. 1. 1. 1.]]\n"
     ]
    }
   ],
   "source": [
    "import numpy as np\n",
    "import matplotlib.pyplot as plt\n",
    "%matplotlib inline\n",
    "\n",
    "\n",
    "# old data\n",
    "X = np.array([  [0,0,1],\n",
    "                [0,1,1],\n",
    "                [1,0,1],\n",
    "                [1,1,1] ])\n",
    "\n",
    "# add a column of 1's\n",
    "new_col = np.ones((X.shape[0],1)) # array of 1s, w/ same # of rows as X, 1 col wide\n",
    "X_bias = np.hstack((new_col,X))   # stack them horizontally\n",
    "\n",
    "print(X_bias)"
   ]
  },
  {
   "cell_type": "markdown",
   "metadata": {
    "colab_type": "text",
    "id": "kyhH6tDlfFOt"
   },
   "source": [
    "Let's compare our the use of the bias term without. We'll define functions for the gradient descent and for the plotting of the loss history, so we can call these again later in this lesson."
   ]
  },
  {
   "cell_type": "code",
   "execution_count": 0,
   "metadata": {
    "colab": {
     "base_uri": "https://localhost:8080/",
     "height": 424
    },
    "colab_type": "code",
    "id": "0epzAEQSdmpv",
    "outputId": "cc806186-33f1-4d5f-ee90-be81b9ac1468"
   },
   "outputs": [
    {
     "data": {
      "image/png": "[encoded data removed]",
      "text/plain": [
       "<Figure size 432x288 with 1 Axes>"
      ]
     },
     "metadata": {
      "tags": []
     },
     "output_type": "display_data"
    },
    {
     "name": "stdout",
     "output_type": "stream",
     "text": [
      "No bias: Y_pred = [[0.00553557]\n",
      " [0.00451069]\n",
      " [0.99632065]\n",
      " [0.9954838 ]]\n",
      "With bias: Y_pred = [[0.00485703]\n",
      " [0.00433876]\n",
      " [0.99612094]\n",
      " [0.99565733]]\n"
     ]
    }
   ],
   "source": [
    "Y = np.array([[0,0,1,1]]).T  # target output dataset \n",
    "\n",
    "def sigmoid(x,deriv=False): \n",
    "  if(deriv==True):\n",
    "    return x*(1-x)\n",
    "  return 1/(1+np.exp(-x))\n",
    "\n",
    "\n",
    "def calc_loss(Y_pred, Y, X, w, activ, loss_type=\"mse\"):  # MSE loss\n",
    "  diff = Y_pred - Y\n",
    "  loss = (diff**2).mean()\n",
    "  gradient = np.dot( X.T, diff*activ(Y_pred, deriv=True)) # for weight update\n",
    "  return loss, gradient\n",
    "\n",
    "\n",
    "def fit(X, Y, activ, use_bias=True, alpha=3.0, maxiter=10000, loss_type='mse'):\n",
    "  \"\"\"\n",
    "  fit: Generic routine for doing our gradient decent\n",
    "\n",
    "  Required arguments:\n",
    "      X:     input matrix\n",
    "      Y:     target output\n",
    "      activ: reference to an activation function\n",
    "      \n",
    "  Keywork arguments (optional):\n",
    "      use_bias: Flag for whether to use bias in the model\n",
    "      alpha:    learning rate. Tip: Use the largest alpha 'you can get away with'\n",
    "      maxiter:  maximum number of iterations\n",
    "      loss_type: Set to MSE for now but we'll extend this later. \n",
    "  \"\"\"\n",
    "  if use_bias:                       # add a column of 1's to X\n",
    "    new_col = np.ones((X.shape[0],1)) \n",
    "    X = np.hstack((new_col,X))        \n",
    "\n",
    "  # Define weights\n",
    "  np.random.seed(1)                  # for reproducibility \n",
    "  if activ == sigmoid:\n",
    "    w = 2*np.random.random((X.shape[1],Y.shape[1])) - 1  # -1..1 \n",
    "  else:\n",
    "    w = np.random.random((X.shape[1],Y.shape[1]))/10  # only positive weights (for later)\n",
    "    \n",
    "  loss_hist = []                     # start with an empty list\n",
    "  for iter in range(maxiter):\n",
    "\n",
    "    Y_pred = activ(np.dot(X,w))      # compute prediction, i.e. tilde{Y}\n",
    "\n",
    "    loss, gradient = calc_loss(Y_pred, Y, X, w, activ, loss_type)\n",
    "    loss_hist.append(loss)           # add to the history of the loss\n",
    "    \n",
    "    w -= alpha * gradient            # weight update\n",
    "\n",
    "  return w, Y_pred, loss_hist        # send these values back\n",
    "\n",
    "\n",
    "# Now call the fit function twice, to compare with and without bias:\n",
    "w_old, Y_pred_old, loss_hist_old = fit(X, Y, sigmoid, use_bias=False)\n",
    "w_new, Y_pred_new, loss_hist_new = fit(X, Y, sigmoid)\n",
    "\n",
    "# Plot the results.  Make a function so we can call this again later\n",
    "def plot_new_old(loss_hist_old, loss_hist_new, labels=[\"no bias\", \"with bias\"]):\n",
    "  plt.loglog(loss_hist_old, label=labels[0])\n",
    "  plt.loglog(loss_hist_new, label=labels[1])\n",
    "  plt.xlabel(\"Iteration\")\n",
    "  plt.ylabel(\"MSE Loss (monitoring)\")\n",
    "  plt.legend()\n",
    "  plt.show()\n",
    "\n",
    "plot_new_old(loss_hist_old, loss_hist_new)\n",
    "# And print the final answers:\n",
    "print(\"No bias: Y_pred =\",Y_pred_old)\n",
    "print(\"With bias: Y_pred =\",Y_pred_new)"
   ]
  },
  {
   "cell_type": "markdown",
   "metadata": {
    "colab_type": "text",
    "id": "uuZd-kdoisg3"
   },
   "source": [
    "As expected, *for this problem*, the inclusion of bias didn't make any significant difference.  Let's try the same thing for the 7-segment display problem from Part 1.   And let's try two different runs, one with sigmoid activation, and another with ReLU:"
   ]
  },
  {
   "cell_type": "code",
   "execution_count": 0,
   "metadata": {
    "colab": {
     "base_uri": "https://localhost:8080/",
     "height": 1436
    },
    "colab_type": "code",
    "id": "p-IitodsiIQq",
    "outputId": "adf51e4d-9990-4c8e-b439-aac1e035e8a7"
   },
   "outputs": [
    {
     "name": "stdout",
     "output_type": "stream",
     "text": [
      "\n",
      "\n",
      "--------- activ =  <function sigmoid at 0x7fa465235d08>\n"
     ]
    },
    {
     "data": {
      "image/png": "[encoded data removed]",
      "text/plain": [
       "<Figure size 432x288 with 1 Axes>"
      ]
     },
     "metadata": {
      "tags": []
     },
     "output_type": "display_data"
    },
    {
     "name": "stdout",
     "output_type": "stream",
     "text": [
      "No bias: Y_pred =\n",
      " [[0.98 0.00 0.00 0.00 0.00 0.00 0.01 0.01 0.03 0.02]\n",
      " [0.01 0.98 0.00 0.01 0.01 0.00 0.00 0.02 0.00 0.00]\n",
      " [0.00 0.00 0.99 0.01 0.00 0.00 0.01 0.00 0.03 0.00]\n",
      " [0.00 0.00 0.01 0.98 0.00 0.00 0.00 0.01 0.00 0.02]\n",
      " [0.00 0.01 0.00 0.00 0.99 0.00 0.00 0.00 0.03 0.02]\n",
      " [0.00 0.00 0.00 0.01 0.01 0.98 0.02 0.00 0.00 0.02]\n",
      " [0.01 0.00 0.00 0.00 0.00 0.01 0.98 0.00 0.03 0.00]\n",
      " [0.01 0.01 0.00 0.01 0.00 0.00 0.00 0.98 0.00 0.00]\n",
      " [0.01 0.00 0.01 0.00 0.00 0.00 0.01 0.00 0.94 0.00]\n",
      " [0.00 0.00 0.00 0.01 0.01 0.01 0.00 0.00 0.02 0.96]]\n",
      "With bias: Y_pred =\n",
      " [[0.98 0.00 0.00 0.00 0.00 0.00 0.01 0.01 0.03 0.01]\n",
      " [0.01 0.98 0.00 0.01 0.01 0.00 0.00 0.02 0.00 0.00]\n",
      " [0.00 0.00 0.99 0.01 0.00 0.00 0.01 0.00 0.02 0.00]\n",
      " [0.00 0.00 0.01 0.98 0.00 0.00 0.00 0.01 0.00 0.02]\n",
      " [0.00 0.01 0.00 0.00 0.99 0.00 0.00 0.00 0.02 0.02]\n",
      " [0.00 0.00 0.00 0.01 0.01 0.98 0.02 0.00 0.00 0.02]\n",
      " [0.01 0.00 0.00 0.00 0.00 0.01 0.98 0.00 0.03 0.00]\n",
      " [0.01 0.01 0.00 0.01 0.00 0.00 0.00 0.98 0.00 0.00]\n",
      " [0.01 0.00 0.01 0.00 0.00 0.00 0.01 0.00 0.95 0.01]\n",
      " [0.00 0.00 0.00 0.01 0.01 0.01 0.00 0.00 0.01 0.97]]\n",
      "\n",
      "\n",
      "--------- activ =  <function relu at 0x7fa4651f2400>\n"
     ]
    },
    {
     "data": {
      "image/png": "[encoded data removed]",
      "text/plain": [
       "<Figure size 432x288 with 1 Axes>"
      ]
     },
     "metadata": {
      "tags": []
     },
     "output_type": "display_data"
    },
    {
     "name": "stdout",
     "output_type": "stream",
     "text": [
      "No bias: Y_pred =\n",
      " [[1.00 -0.00 -0.00 -0.00 -0.00 -0.00 -0.00 0.00 0.01 0.00]\n",
      " [-0.00 1.00 -0.00 -0.00 0.00 -0.00 -0.00 0.00 -0.00 -0.00]\n",
      " [-0.00 -0.00 1.00 0.00 -0.00 -0.00 -0.00 -0.00 0.01 -0.00]\n",
      " [-0.00 -0.00 -0.00 1.00 -0.00 -0.00 -0.00 0.00 -0.00 0.00]\n",
      " [-0.00 0.00 -0.00 -0.00 1.00 -0.00 -0.00 -0.00 0.01 0.00]\n",
      " [-0.00 -0.00 -0.00 -0.00 -0.00 1.00 0.00 -0.00 -0.00 0.00]\n",
      " [-0.00 -0.00 -0.00 -0.00 -0.00 0.00 1.00 -0.00 0.01 -0.00]\n",
      " [0.00 0.00 -0.00 0.00 -0.00 -0.00 -0.00 1.00 -0.00 -0.00]\n",
      " [0.00 -0.00 0.00 -0.00 -0.00 -0.00 0.00 -0.00 0.96 -0.00]\n",
      " [-0.00 -0.00 -0.00 0.00 0.00 0.00 -0.00 -0.00 0.00 1.00]]\n",
      "With bias: Y_pred =\n",
      " [[1.00 -0.00 -0.00 -0.00 -0.00 -0.00 -0.00 0.00 0.00 0.00]\n",
      " [-0.00 1.00 -0.00 -0.00 0.00 -0.00 -0.00 0.00 -0.00 -0.00]\n",
      " [-0.00 -0.00 1.00 0.00 -0.00 -0.00 -0.00 -0.00 0.00 -0.00]\n",
      " [-0.00 -0.00 -0.00 1.00 -0.00 -0.00 -0.00 0.00 -0.00 0.00]\n",
      " [-0.00 0.00 -0.00 -0.00 1.00 -0.00 -0.00 -0.00 0.00 0.00]\n",
      " [-0.00 -0.00 -0.00 -0.00 -0.00 1.00 0.00 -0.00 -0.00 0.00]\n",
      " [-0.00 -0.00 -0.00 -0.00 -0.00 0.00 1.00 -0.00 0.00 -0.00]\n",
      " [0.00 0.00 -0.00 0.00 -0.00 -0.00 -0.00 1.00 -0.00 -0.00]\n",
      " [0.00 -0.00 0.00 -0.00 -0.00 -0.00 0.00 -0.00 0.99 -0.00]\n",
      " [-0.00 -0.00 -0.00 0.00 0.00 0.00 -0.00 -0.00 0.00 1.00]]\n"
     ]
    }
   ],
   "source": [
    "X_7seg = np.array([ [1,1,1,1,1,1,0,1],  # 0\n",
    "                    [0,1,1,0,0,0,0,1],  # 1 \n",
    "                    [1,1,0,1,1,0,1,1],  # 2\n",
    "                    [1,1,1,1,0,0,1,1],  # 3\n",
    "                    [0,1,1,0,0,1,1,1],  # 4 \n",
    "                    [1,0,1,1,0,1,1,1],  # 5\n",
    "                    [1,0,1,1,1,1,1,1],  # 6 \n",
    "                    [1,1,1,0,0,0,0,1],  # 7 \n",
    "                    [1,1,1,1,1,1,1,1],  # 8 \n",
    "                    [1,1,1,1,0,1,1,1]   # 9 \n",
    "                 ])\n",
    "Y_7seg = np.eye(10)\n",
    "X, Y = X_7seg, Y_7seg\n",
    "\n",
    "def relu(x,deriv=False):   # relu activation\n",
    "  if(deriv==True):\n",
    "    return 1*(x>0) \n",
    "  return x*(x>0)\n",
    "\n",
    "\n",
    "# Call the fit routine twice, once for sigmoid activation, once for relu\n",
    "for activ in [sigmoid, relu]:\n",
    "  print(\"\\n\\n--------- activ = \",activ)\n",
    "  alpha = 0.5 if activ == sigmoid else 0.005    # assign learning rate\n",
    "  w_old, Y_pred_old, loss_hist_old = fit(X, Y, activ, alpha=alpha, use_bias=False)\n",
    "  w_new, Y_pred_new, loss_hist_new = fit(X, Y, activ, alpha=alpha)\n",
    "\n",
    "  # Report results\n",
    "  plot_new_old(loss_hist_old, loss_hist_new)\n",
    "  np.set_printoptions(formatter={'float': lambda x: \"{0:0.2f}\".format(x)}) # 2 sig figs\n",
    "  print(\"No bias: Y_pred =\\n\",Y_pred_old)\n",
    "  print(\"With bias: Y_pred =\\n\",Y_pred_new)"
   ]
  },
  {
   "cell_type": "markdown",
   "metadata": {
    "colab_type": "text",
    "id": "Xz8f-20QKYDY"
   },
   "source": [
    "...So for this problem, it seems that adding the bias gave us a bit more accuracy, both for the sigmoid and relu activations.  *Note: in this example, the learning rates were chosen by experiment; you should get in the habit of going back and experimenting with different learning rates.*  \n"
   ]
  },
  {
   "cell_type": "markdown",
   "metadata": {
    "colab_type": "text",
    "id": "t8sVBXtUKmPQ"
   },
   "source": [
    "## Video Interlude: Logistic Regression\n",
    "What we've been doing up until now has been a \"classification\" problem, with \"yes\"/\"no\" answers represented by 1's and 0's.  This sort of operation is closely associated with the statistical method of Logistic Regression.  It is akin to linear regression but with a sigmoid activation function.  When doing Logistic Regression, one optimizes to fit by finding the maximum \"likelihood\" of a given model being correct.  \n",
    "\n",
    "To gain some insight on Logistic Regression, watch [this SatsQuest video](https://www.youtube.com/watch?v=yIYKR4sgzI8).  (You can ignore his remarks about his preceding video, \"R squared\" and \"p-value\", etc.)\n",
    "\n",
    "In what follows, we will be *minimizing* the *negative* of the *logarithm* of the likelihood, a quantity typically known as the Cross-Entropy loss. (This same quantity is also the non-constant part of the \"Kullback-Leibler Divergence\" or \"K-L divergence,\" so you may hear it called that sometimes.)\n",
    "\n"
   ]
  },
  {
   "cell_type": "markdown",
   "metadata": {
    "colab_type": "text",
    "id": "rliD0ol1oM6R"
   },
   "source": [
    "\n",
    "## 2. Use a different loss function: Cross-Entropy loss\n",
    "\n",
    "Let's return to Trask's first problem for which there is only one target per data point (row) of input, namely a target of 0 or 1.  In this case, using the sigmoid function for this classification problem is one of [logistic regression](https://www.youtube.com/watch?v=yIYKR4sgzI8), even though we hadn't it identified it as such. \n",
    "\n",
    "We've been using mean squared error (MSE) loss, but other loss functions exist.  In particular, for outputs which are either \"yes\" or \"no\" such as the *classification problem* we are solving, a function called \"[cross entropy](https://ml-cheatsheet.readthedocs.io/en/latest/loss_functions.html#cross-entropy)\" is typically preferred. The cross-entropy loss is written like this:\n",
    "\n",
    "$$L_{CE} = -\\sum_i \\left[ Y_i\\log(\\tilde{Y}_i) + (1-Y_i)\\log(1-\\tilde{Y}_i) \\right]$$\n",
    "\n",
    "Note that since the function $\\log(x)$  is undefined for $x\\le0$, we need to make sure $0<\\tilde{Y}_i<1$ for all $i$.  One way to ensure this is to use sigmoid activation! Thus, for classification problems, it is very common to see sigmoid activation (or its multi-class relative \"[softmax](http://dataaspirant.com/2017/03/07/difference-between-softmax-function-and-sigmoid-function/)\") immediately before the output, even for many-layer neural networks with all kinds of other activations in other places. \n",
    "\n",
    "To use the CE loss with gradient descent, we need its derivative with respect to the weights. First let's write the CE loss in terms of the inputs $X$, weights $w$ and activation function $f$:\n",
    "\n",
    "...wait, for compactness, let's write the weighted sum as $S_i = \\sum_j X_{ij}w_j$. Ok, now going forward....\n",
    "\n",
    "$$L_{CE} = -\\sum_i\\left[ Y_i\\log\\left(f\\left(S_i \\right)\\right) + (1-Y_i)\\log\\left(1- f\\left(S_{i}\\right)\\right) \\right]$$\n",
    "\n",
    "For any function $g(x)$, the derivative of $\\log(g(x))$ with respect to x is just $1/g*(du/dx)$, so our partial derivatives with respect to weights look like\n",
    "\n",
    "$${\\partial L_{CE}\\over \\partial w_j} = -\\sum_i\\left[ {Y_i\\over\\tilde{Y_i}}{\\partial f(S_i)\\over \\partial w_j}  - \n",
    "{1-Y_i\\over 1-\\tilde{Y}_i} {\\partial f(S_i)\\over \\partial w_j} \\right]\\\\\n",
    "= -\\sum_i {\\partial f(S_i) \\over \\partial S_i}{\\partial S_i\\over\\partial w_j} \\left[  {Y_i\\over\\tilde{Y_i}}  - \n",
    "{1-Y_i\\over 1-\\tilde{Y}_i}  \\right]\n",
    "$$\n",
    "And if we multiply by $2/N$, we can write this as\n",
    "$$\n",
    "{\\partial L_{CE}\\over \\partial w_j}\n",
    "= {2\\over N} \\sum_{i=0}^{N-1}  {\\partial f(S_i) \\over \\partial S_i}X_{ij}\n",
    "\\left[\n",
    "{\\tilde{Y_i}-Y_i\\over \\tilde{Y_i}(1-\\tilde{Y_i}) }\\right]$$\n",
    "This is similar to the partial derivatives for our MSE loss, except the term in the denominator is new.  To see this more clearly, \n",
    "recall that the weight update for  MSE (from Part 1) was\n",
    "$$\n",
    "w := w - \\alpha  X^T \\cdot \\left( [\\tilde{Y}-Y]*\\tilde{Y}*(1-\\tilde{Y})\\right)\n",
    "$$\n",
    "whereas for CE we actually get a bit of a simplification because the term in the denominator cancels with a similar term in the numerator:\n",
    "$$\n",
    "w := w - \\alpha  X^T \\cdot \\left( [\\tilde{Y}-Y]*\\tilde{Y}*(1-\\tilde{Y})\\right) / (\\tilde{Y}*(1-\\tilde{Y})) \\\\\n",
    "w := w - \\alpha  X^T \\cdot [\\tilde{Y}-Y].\n",
    "$$\n",
    "Thus despite all this seeming complication, our CE weight update is actually simpler than what it was before as MSE!\n",
    "\n",
    "Let's try this out with code now:"
   ]
  },
  {
   "cell_type": "code",
   "execution_count": 0,
   "metadata": {
    "colab": {
     "base_uri": "https://localhost:8080/",
     "height": 460
    },
    "colab_type": "code",
    "id": "v-fSMT_GoMRi",
    "outputId": "3f867001-c4b3-4a32-9ed3-495d683f0098"
   },
   "outputs": [
    {
     "data": {
      "image/png": "[encoded data removed]",
      "text/plain": [
       "<Figure size 432x288 with 1 Axes>"
      ]
     },
     "metadata": {
      "tags": []
     },
     "output_type": "display_data"
    },
    {
     "name": "stdout",
     "output_type": "stream",
     "text": [
      "MSE _loss: Y_pred =\n",
      " [[0.01]\n",
      " [0.01]\n",
      " [0.99]\n",
      " [0.99]]\n",
      "CE loss: Y_pred =\n",
      " [[0.00]\n",
      " [0.00]\n",
      " [1.00]\n",
      " [1.00]]\n"
     ]
    }
   ],
   "source": [
    "# we'll \"overwrite\" the earlier calc_loss function\n",
    "def calc_loss(Y_pred, Y, X, w, activ, loss_type='ce'):\n",
    "  diff = Y_pred - Y\n",
    "  loss = (diff**2).mean()         # MSE loss\n",
    "\n",
    "  if 'ce' == loss_type:\n",
    "    diff = diff / (Y_pred*(1-Y_pred))     # use this for gradient\n",
    "    #loss = -(Y*np.log(Y_tilde) + (1-Y)*np.log1p(-Y_tilde)).mean()  # CE Loss\n",
    "    #  Actually we don't care what the loss itself is. \n",
    "    #  Let's use MSE loss for 'monitoring' regardless, so we can compare the \n",
    "    #  effects of using different gradients-of-loss functions\n",
    "\n",
    "  gradient = np.dot( X.T, diff*activ(Y_pred, deriv=True))      # same as before\n",
    "  return loss, gradient\n",
    "\n",
    "#---- \n",
    "X = X_bias\n",
    "Y = np.array([[0,0,1,1]]).T  # target output dataset \n",
    "\n",
    "# Compare old and new\n",
    "w_mse, Y_pred_mse, loss_hist_mse = fit(X, Y, sigmoid, alpha=0.5, loss_type='mse')  \n",
    "w_ce, Y_pred_ce, loss_hist_ce    = fit(X, Y, sigmoid, alpha=0.5, loss_type='ce')   # fit\n",
    "\n",
    "plot_new_old(loss_hist_mse, loss_hist_ce, [\"MSE, with bias\", \"CE, with bias\"])\n",
    "# And print the final answers:\n",
    "print(\"MSE _loss: Y_pred =\\n\",Y_pred_mse)\n",
    "print(\"CE loss: Y_pred =\\n\",Y_pred_ce)"
   ]
  },
  {
   "cell_type": "markdown",
   "metadata": {
    "colab_type": "text",
    "id": "d7DLmv9q_3Uq"
   },
   "source": [
    "This works a lot better!  To understand why, note that the gradients for MSE loss scale like\n",
    "$$[\\tilde{Y}-Y]*\\tilde{Y}*(1-\\tilde{Y})$$ and thus **these gradients go to zero** as $\\tilde{Y}\\rightarrow 0$, and/or $\\tilde{Y}\\rightarrow 1$, which makes training **very slow**!   In contrast, the extra denominator in the CE gradients effectively cancels out this behavior, leaving the remaining term of \n",
    "$$[\\tilde{Y}-Y]$$ which varies *linearly* with the difference from the target value. This makes training much more efficient. "
   ]
  },
  {
   "cell_type": "code",
   "execution_count": 0,
   "metadata": {
    "colab": {
     "base_uri": "https://localhost:8080/",
     "height": 353
    },
    "colab_type": "code",
    "id": "UwVdMLHqk1g0",
    "outputId": "f0f69bf7-e65d-4357-9be2-d73055a2e5d3"
   },
   "outputs": [
    {
     "name": "stderr",
     "output_type": "stream",
     "text": [
      "/usr/local/lib/python3.6/dist-packages/ipykernel_launcher.py:6: RuntimeWarning: invalid value encountered in true_divide\n",
      "  \n",
      "/usr/local/lib/python3.6/dist-packages/ipykernel_launcher.py:18: RuntimeWarning: invalid value encountered in greater\n",
      "/usr/local/lib/python3.6/dist-packages/ipykernel_launcher.py:17: RuntimeWarning: invalid value encountered in greater\n"
     ]
    },
    {
     "data": {
      "image/png": "[encoded data removed]",
      "text/plain": [
       "<Figure size 432x288 with 1 Axes>"
      ]
     },
     "metadata": {
      "tags": []
     },
     "output_type": "display_data"
    }
   ],
   "source": [
    "# Aside: What happens if we try ReLU activation with CE loss?  Bad things, probably.\n",
    "# Recall that ReLU maps negative numbers to 0, and isn't bounded from above.\n",
    "#  Thus the \"denominator\" in the 'diff term' in our earlier code will tend to 'explode'.  \n",
    "#  Put differently, note that log(x) is undefined for x=0, as is log(1-x) for x=1.\n",
    "w_relu_ce, Y_pred_relu_ce, loss_hist_relu_ce = fit(X, Y, relu, alpha=0.001, loss_type='ce') \n",
    "plot_new_old(loss_hist_ce, loss_hist_relu_ce, [\"CE, sigmoid\", \"CE, ReLU\"])"
   ]
  },
  {
   "cell_type": "markdown",
   "metadata": {
    "colab_type": "text",
    "id": "G6ZbeL9AEuek"
   },
   "source": [
    "# Excercise: \n",
    "Do the same comparison for the 7-segment display problem: Make a plot showing a comparison of the loss history use MSE loss vs. using CE loss. And print out the final values of `Y_pred` for each.  Use a learning rate of 0.5 and sigmoid activation, with bias. \n",
    "\n",
    "Take a screenshot of the output and upload it to your instructor."
   ]
  },
  {
   "cell_type": "code",
   "execution_count": 0,
   "metadata": {
    "colab": {},
    "colab_type": "code",
    "id": "xaH68apNOSFP"
   },
   "outputs": [],
   "source": []
  },
  {
   "cell_type": "markdown",
   "metadata": {
    "colab_type": "text",
    "id": "rrUfbHcOOr44"
   },
   "source": [
    "(*Note:* for the 7-segment display, since the target $Y$ has multiple columns, we should \"normalize\" the output in order to be able to properly interpret the output values $\\tilde{Y}$ as probabilities. To do so, we would use a `softmax` activation. For now, we haven't bothered with this because it would add a bit more math, and is not actually necessary to solve this problem. )\n",
    "\n",
    "Next time: [Part 3: Multi-Layer Networks and Backpropagation](https://colab.research.google.com/drive/1UZDEK-3v-SWxpDYBfamBoD4xhy7H2DEZ#scrollTo=14tOCcvT_a0I)"
   ]
  },
  {
   "cell_type": "code",
   "execution_count": 0,
   "metadata": {
    "colab": {},
    "colab_type": "code",
    "id": "h8ER4hhgOaJf"
   },
   "outputs": [],
   "source": []
  }
 ],
 "metadata": {
  "colab": {
   "collapsed_sections": [],
   "name": "My First NN Part 2.ipynb",
   "provenance": []
  },
  "kernelspec": {
   "display_name": "Python 3",
   "language": "python",
   "name": "python3"
  },
  "language_info": {
   "codemirror_mode": {
    "name": "ipython",
    "version": 3
   },
   "file_extension": ".py",
   "mimetype": "text/x-python",
   "name": "python",
   "nbconvert_exporter": "python",
   "pygments_lexer": "ipython3",
   "version": "3.6.9"
  }
 },
 "nbformat": 4,
 "nbformat_minor": 1
}
