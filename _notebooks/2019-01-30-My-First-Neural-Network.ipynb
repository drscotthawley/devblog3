{
 "cells": [
  {
   "cell_type": "markdown",
   "metadata": {
    "colab_type": "text",
    "id": "ZsvpDjzQvODe"
   },
   "source": [
    "# My First Neural Network, Part 1\n",
    "\n",
    "> Where we expand previous lessons to larger systems\n",
    "- toc: true\n",
    "- branch: master\n",
    "- badges: true\n",
    "- comments: true\n",
    "- metadata_key1: metadata_value1\n",
    "- metadata_key2: metadata_value2\n",
    "- image: https://i.imgur.com/7Oj5Ksn.png\n",
    "- description: First in a series on understanding neural network models.\n",
    "- redirect_to: https://drscotthawley.github.io/blog/2019/01/30/My-First-Neural-Network.html"
   ]
  },
  {
   "cell_type": "markdown",
   "metadata": {
    "colab_type": "text",
    "id": "2nHAjREEmpw4"
   },
   "source": [
    "Links to lessons:\n",
    "[Part 0](https://drscotthawley.github.io/Following-Gravity/),\n",
    "[Part 1](https://colab.research.google.com/drive/1CPueDKDYOC33U_0qHxBhsDPpzYMpD8c8), \n",
    "[Part 2](https://colab.research.google.com/drive/1O9xcdAQUxo7KdVhbggqLCvabc77Rj-yH)\n",
    "[Part 3](https://colab.research.google.com/drive/1UZDEK-3v-SWxpDYBfamBoD4xhy7H2DEZ#scrollTo=14tOCcvT_a0I)\n",
    "\n",
    "We will be reproducing work from Andrew Trask's excellent tutorial [\"A Neural Network in 11 lines of Python\"](https://iamtrask.github.io/2015/07/12/basic-python-network/), albeit with a different emphasis, and in a different way.  You may regard this treatment and his original treatment as complimentary, and feel free to refer to both.  This lesson is written with the intent of building on the lesson about linear regression -- which we might call \"Part 0\" -- at the link [\"Following Gravity - ML Foundations Part Ia.\"](https://drscotthawley.github.io/Following-Gravity/) \n",
    "\n",
    "## The Sample Problem\n",
    "\n",
    "Consider a system that tries to map groups of 3 inputs to some corresponding output which is a single number. In the following picture, we'll show each set of 3 inputs as a row of a matrix $X$, and each output as the corresponding row of $Y$:\n",
    "\n",
    "$$ \\overbrace{\n",
    " \\left[ {\\begin{array}{ccc}\n",
    "   0 & 0 & 1 \\\\\n",
    "   0 & 1 & 1\\\\\n",
    "   1 & 0 & 1\\\\\n",
    "   1 & 1 & 1\\\\\n",
    "  \\end{array} } \\right]\n",
    "}^{X} \\rightarrow\n",
    "\\overbrace{\n",
    " \\left[ {\\begin{array}{c}\n",
    "   0   \\\\\n",
    "   0  \\\\\n",
    "   1  \\\\\n",
    "   1 \\\\\n",
    "  \\end{array} } \\right]\n",
    "  }^Y.\n",
    "$$\n",
    "\n",
    "Even though this system has an exact solution (namely, $Y$ equals the first column of $X$), usually we'll need to be satisfied with a system that maps our inputs $X$ to some approximate \"prediction\" $\\tilde{Y}$, which we hope to bring closer to the \"target\" $Y$ by means of successive improvements. \n",
    "\n",
    "The way we'll get our prediction $\\tilde{Y}$ is by means of a weighted sum of each set of 3 inputs, and some nonlinear function $f$ which we call the \"[activation function](https://en.wikipedia.org/wiki/Activation_function)\" (or just \"activation\").   Pictorially, the process looks like the following, for each row $i$ of $X$ and $Y$, (where the columns of $X$ are shown arranged vertically instead of horizonally):\n",
    "\n",
    "\n",
    "![image of NN](https://i.imgur.com/7Oj5Ksn.png)\n",
    "\n",
    "In terms of matrix multiplication, since X is a 4x3 matrix, and Y is a 4x1 matrix, that implies that our weights should be a 3x1 matrix consisting of (unknown) values $w_0$, $w_1$ and $w_2$. The calculation can be written as:\n",
    "\n",
    "$$\n",
    "f\\left(\n",
    "  \\overbrace{\n",
    " \\left[ {\\begin{array}{ccc}\n",
    "   0 & 0 & 1 \\\\\n",
    "   0 & 1 & 1\\\\\n",
    "   1 & 0 & 1\\\\\n",
    "   1 & 1 & 1\\\\\n",
    "  \\end{array} } \\right]\n",
    "}^\\text{X} \n",
    "\\overbrace{\n",
    "   \\left[ {\\begin{array}{c}\n",
    "   w_0  \\\\\n",
    "    w_1\\\\\n",
    "   w_2\\\\\n",
    "  \\end{array} } \\right]\n",
    " }^{w}\n",
    "\\right)\n",
    "  = \n",
    "  \\overbrace{\n",
    " \\left[ {\\begin{array}{c}\n",
    "   0   \\\\\n",
    "   0  \\\\\n",
    "   1  \\\\\n",
    "   1 \\\\\n",
    "  \\end{array} } \\right]\n",
    " }^{\\tilde{Y}}\n",
    "$$\n",
    "\n",
    "\n",
    "Our nonlinear activation function $f$ is taken to operate on each row element one at a time, and we'll let $f_i$ denote the $i$th row of this completed activation, i.e.:\n",
    "\n",
    "$$\n",
    "f_i = f\\left( \\sum_j X_{ij}w_j \\right) = \\tilde{Y}_i .\n",
    "$$\n",
    "\n",
    "\n",
    "The particular activation function we will use is the \"sigmoid\",\n",
    "\n",
    "$$\n",
    "f(x) = {1\\over{1+e^{-x}}}, \n",
    "$$\n",
    "-- [click here to see a plot of this function](https://www.google.com/search?q=plot+1%2F(1%2Bexp(-x) -- which has the derivative \n",
    "\n",
    "$$\n",
    "{df\\over dx} = {e^{-x}\\over(1 + e^{-x})^2}\n",
    "$$\n",
    "which can be shown (*Hint: exercise for \"mathy\" students!*) to simplify to\n",
    "$$\n",
    " {df\\over dx}= f(1-f).\n",
    "$$\n",
    "\n",
    "The overall problem then amounts to finding the values of the \"weights\" $w_0, w_1,$ and $w_2$ so that the $\\tilde{Y}$ we calculate is as close to the target $Y$ as possible.\n",
    "\n",
    "To do this, we will seek to minimize a loss function defined as a sum across all data points we have, i.e. all 4 rows. The loss function $L$ we will choose is the mean square error loss, or MSE (note: later in [Part 2](https://colab.research.google.com/drive/1O9xcdAQUxo7KdVhbggqLCvabc77Rj-yH#scrollTo=AFGL_ThJKJfM) we will use a 'better' loss function for this problem):\n",
    "\n",
    "$$\n",
    "L = {1\\over N}\\sum_{i=0}^{N-1} \\left[ \\tilde{Y}_i - Y_i\\right]^2,\n",
    "$$\n",
    "or in terms of the activation function\n",
    "$$\n",
    "L = {1\\over N}\\sum_{i=0}^{N-1} \\left[ f_i - Y_i\\right]^2.\n",
    "$$\n",
    "\n",
    "Each of the weights $w_j$ ($j=0..2$) will start with random values, and then be updated via gradient descent, i.e. \n",
    "\n",
    "$$\n",
    "w_j^{new} = w_j^{old} - \\alpha{\\partial L\\over \\partial w_j}\n",
    "$$\n",
    "\n",
    "where $\\alpha$ is the *learning rate*, chosen to be some small parameter.\n",
    "For the MSE loss shown above,  the partial derivatives with respect to each of the weights is\n",
    "\n",
    "$$\n",
    "{\\partial L\\over \\partial w_j} = {2\\over N}\\sum_{i=0}^{N-1} \\left[ \\tilde{Y}_i - Y_i\\right]{\\partial f_i \\over \\partial w_j}\\\\\n",
    "= {2\\over N}\\sum_{i=0}^{N-1} \\left[ \\tilde{Y}_i - Y_i\\right]f_i(1-f_i)X_{ij}.\n",
    "$$\n",
    "\n",
    "Absorbing the factor of 2/N into our choice of $\\alpha$, and writing the summation as a dot product, and noting that $f_i = \\tilde{Y}_i$, we can write the update for all the weights together as \n",
    "\n",
    "$$\n",
    "w = w - \\alpha  X^T \\cdot \\left( [\\tilde{Y}-Y]*\\tilde{Y}*(1-\\tilde{Y})\\right)\n",
    "$$\n",
    "where the $\\cdot$ denotes a matrix-matrix product (i.e. a dot product for successive rows of $X^T$) and $*$ denotes elementwise multiplication.  \n",
    "\n",
    "To clarify the above expression in terms of matrix dimensions, we can see that $w$, a 3x1 matrix, can be made by multipyting $X^T$ (a 3 x4 matrix) with the term in parentheses, i.e. the product of elementwise terms involving $\\tilde{Y}$, which is a 4x1 matrix.  In other words, a 3x4 matrix, times a 4x1 matrix, yields a 3x1 matrix. \n",
    "\n",
    "## Actual Code\n",
    "The full code for all of this is then..."
   ]
  },
  {
   "cell_type": "code",
   "execution_count": 0,
   "metadata": {
    "colab": {
     "base_uri": "https://localhost:8080/"
    },
    "colab_type": "code",
    "id": "QueUg4-7mun7",
    "outputId": "0b1b770c-72e4-427c-bb99-b338e30ae5a4"
   },
   "outputs": [
    {
     "name": "stdout",
     "output_type": "stream",
     "text": [
      "Output After Training:\n",
      "Y_pred = (should be two 0's followed by two 1's)\n",
      " [[0.03178421]\n",
      " [0.02576499]\n",
      " [0.97906682]\n",
      " [0.97414645]]\n",
      "weights =\n",
      " [[ 7.26283009]\n",
      " [-0.21614618]\n",
      " [-3.41703015]]\n"
     ]
    }
   ],
   "source": [
    "# Source: Slightly modified from Andrew Trask's code posted at \n",
    "#         https://iamtrask.github.io/2015/07/12/basic-python-network/\n",
    "import numpy as np\n",
    "\n",
    "# sigmoid activation\n",
    "def sigmoid(x,deriv=False): \n",
    "  if(deriv==True):\n",
    "    return x*(1-x)\n",
    "  return 1/(1+np.exp(-x))\n",
    "    \n",
    "# input dataset\n",
    "X = np.array([  [0,0,1],\n",
    "                [0,1,1],\n",
    "                [1,0,1],\n",
    "                [1,1,1] ])\n",
    "    \n",
    "# target output dataset            \n",
    "Y = np.array([[0,0,1,1]]).T\n",
    "\n",
    "# seed random numbers to make calculation\n",
    "# deterministic (just a good practice)\n",
    "np.random.seed(1)\n",
    "\n",
    "# initialize weights randomly with mean 0\n",
    "w = 2*np.random.random((3,1)) - 1\n",
    "\n",
    "alpha = 1.0   # learning rate\n",
    "\n",
    "loss_history = []    # keep a record of how the loss proceeded, blank for now\n",
    "for iter in range(1000):\n",
    "\n",
    "    # forward propagation\n",
    "    Y_pred = sigmoid(np.dot(X,w)) # prediction, i.e. tilde{Y}\n",
    "\n",
    "    # how much did we miss?\n",
    "    diff = Y_pred - Y\n",
    "    loss_history.append((diff**2).mean())   # add to the history of the loss\n",
    "\n",
    "    # update weights\n",
    "    w -= alpha * np.dot( X.T, diff*sigmoid(Y_pred, deriv=True))\n",
    "\n",
    "print(\"Output After Training:\")\n",
    "print(\"Y_pred = (should be two 0's followed by two 1's)\\n\",Y_pred)\n",
    "print(\"weights =\\n\",w)"
   ]
  },
  {
   "cell_type": "markdown",
   "metadata": {
    "colab_type": "text",
    "id": "ON04HU15YQol"
   },
   "source": [
    "Note that, because of our nonlinear activation, we *don't* get the solution $w_0=1, w_1=0, w_2=0$.\n",
    "\n",
    "Plotting the loss vs. iteration number, we see..."
   ]
  },
  {
   "cell_type": "code",
   "execution_count": 0,
   "metadata": {
    "colab": {
     "base_uri": "https://localhost:8080/",
     "height": 283
    },
    "colab_type": "code",
    "id": "94Eka9ulm5db",
    "outputId": "0950ec73-b861-41c1-94e1-f3b4acfb0188"
   },
   "outputs": [
    {
     "data": {
      "image/png": "[encoded data removed]",
      "text/plain": [
       "<Figure size 432x288 with 1 Axes>"
      ]
     },
     "metadata": {
      "tags": []
     },
     "output_type": "display_data"
    }
   ],
   "source": [
    "%matplotlib inline\n",
    "import matplotlib.pyplot as plt\n",
    "plt.loglog(loss_history)\n",
    "plt.xlabel(\"Iteration\")\n",
    "plt.ylabel(\"Loss\")\n",
    "plt.show()"
   ]
  },
  {
   "cell_type": "markdown",
   "metadata": {
    "colab_type": "text",
    "id": "-jsi_KMhd9I5"
   },
   "source": [
    "## Change the activation function\n",
    "\n",
    "Another popular choice of activation function is the *rectified linear unit* or ReLU.  The function ReLU(x) is zero for x <= 0, and equal to x (i.e. a straight line at 45 degrees for)  x >0.  It can be written as max(x,0) or  x * (x>0), and its derivative is 1 for positive x, and zero otherwise. \n",
    "\n",
    "[Click here to see a graph of ReLU](https://www.desmos.com/calculator/vjqfxlgmzl)\n",
    "\n",
    "Modifying our earlier code to use ReLU activation instead of sigmoid looks like this:"
   ]
  },
  {
   "cell_type": "code",
   "execution_count": 0,
   "metadata": {
    "colab": {
     "base_uri": "https://localhost:8080/",
     "height": 185
    },
    "colab_type": "code",
    "id": "dFru2WR3omPW",
    "outputId": "06ed4431-6794-4afb-bb50-891cf496c815"
   },
   "outputs": [
    {
     "name": "stdout",
     "output_type": "stream",
     "text": [
      "Output After Training:\n",
      "Y_pred = (should be two 0's followed by two 1's)\n",
      " [[-0.]\n",
      " [-0.]\n",
      " [ 1.]\n",
      " [ 1.]]\n",
      "weights =\n",
      " [[ 1.01784368e+00]\n",
      " [ 8.53961786e-17]\n",
      " [-1.78436793e-02]]\n"
     ]
    }
   ],
   "source": [
    "def relu(x,deriv=False):   # relu activation\n",
    "  if(deriv==True):\n",
    "    return 1*(x>0) \n",
    "  return x*(x>0)\n",
    "\n",
    "# seed random numbers to make calculation\n",
    "# deterministic (just a good practice)\n",
    "np.random.seed(1)\n",
    "\n",
    "# initialize weights randomly  (but only >0 because ReLU clips otherwise)\n",
    "w = np.random.random((3,1))\n",
    "\n",
    "alpha = 0.3   # learning rate\n",
    "\n",
    "new_loss_history = []    # keep a record of how the error proceeded\n",
    "for iter in range(1000):\n",
    "\n",
    "    # forward propagation\n",
    "    Y_pred = relu(np.dot(X,w))\n",
    "\n",
    "    # how much did we miss?\n",
    "    diff = Y_pred - Y\n",
    "    new_loss_history.append((diff**2).mean())   # add to the record of the loss\n",
    "\n",
    "    # update weights\n",
    "    w -= alpha * np.dot( X.T, diff*relu(Y_pred, deriv=True))\n",
    "\n",
    "print(\"Output After Training:\")\n",
    "print(\"Y_pred = (should be two 0's followed by two 1's)\\n\",Y_pred)\n",
    "print(\"weights =\\n\",w)"
   ]
  },
  {
   "cell_type": "code",
   "execution_count": 0,
   "metadata": {
    "colab": {
     "base_uri": "https://localhost:8080/",
     "height": 34
    },
    "colab_type": "code",
    "id": "w_b-9mA0y146",
    "outputId": "59fb1561-30ed-4188-855e-71d06e993b02"
   },
   "outputs": [
    {
     "name": "stdout",
     "output_type": "stream",
     "text": [
      "[-3.46944695e-17]\n"
     ]
    }
   ],
   "source": [
    "# Aside/Trivia (you can skip this cell): I find it interesting that apparently w2 = 1-w0\n",
    "print( w[2] - (1-w[0]) )"
   ]
  },
  {
   "cell_type": "markdown",
   "metadata": {
    "colab_type": "text",
    "id": "uzEqet74hOt7"
   },
   "source": [
    "Plot old results with new results:"
   ]
  },
  {
   "cell_type": "code",
   "execution_count": 0,
   "metadata": {
    "colab": {
     "base_uri": "https://localhost:8080/",
     "height": 288
    },
    "colab_type": "code",
    "id": "Yv3Bx6epdd_5",
    "outputId": "0d34690a-8542-4245-9524-437eb1d4558c"
   },
   "outputs": [
    {
     "data": {
      "image/png": "[encoded data removed]",
      "text/plain": [
       "<Figure size 432x288 with 1 Axes>"
      ]
     },
     "metadata": {
      "tags": []
     },
     "output_type": "display_data"
    }
   ],
   "source": [
    "%matplotlib inline\n",
    "import matplotlib.pyplot as plt\n",
    "plt.loglog(loss_history,label=\"sigmoid\")\n",
    "plt.loglog(new_loss_history,label=\"relu\")\n",
    "plt.xlabel(\"Iteration\")\n",
    "plt.ylabel(\"Loss\")\n",
    "plt.legend()\n",
    "plt.show()"
   ]
  },
  {
   "cell_type": "markdown",
   "metadata": {
    "colab_type": "text",
    "id": "ZP3iLOjGj0Cb"
   },
   "source": [
    "Looks like ReLU may be a better choice than sigmoid for this problem!"
   ]
  },
  {
   "cell_type": "markdown",
   "metadata": {
    "colab_type": "text",
    "id": "MVVd8-f5j722"
   },
   "source": [
    "## Exercise: Read a 7-segment display\n",
    "\n",
    "A [7-segment display](https://en.wikipedia.org/wiki/Seven-segment_display) is used for displaying numerical digits 0 through 9, usually by lighting up LEDs or parts of a liquid crystal display (LCD).  The segments are labelled $a$ through $g$ according to the following diagram:\n",
    "\n",
    "![7-segment diagram](https://i.imgur.com/ZyHGDKy.png =100x150) \n",
    "\n",
    "### Diagram of the network\n",
    "The 7 inputs \"a\" through \"g\" will be mapped to 10 outputs for the individual digits, and each output can range from 0 (\"false\" or \"no\") to 1 (\"true\" or \"yes\") for that digit.  The input and outputs will be connected by a matrix of weights.  Pictorially, this looks like the following (Not shown: activation function $f$):\n",
    "\n",
    "![diagram of 7-seg network](https://i.imgur.com/mERzmFE.png)\n",
    "\n",
    "...where again, this network operates on a single data point at a time, datapoints which are *rows* of *X* and *Y*.  What is shown in the above diagram are the *columns* of $X$ and $Y$ for a single row (/ single data point).\n",
    "\n",
    "### Create the dataset\n",
    "Let the input X be the segments $a$ through $g$ are the columns of the input $X$, and are either 1 for on or 0 for off.  Let the columns of the target $Y$ be the digits 0-9 themselves arranged in a [\"one hot\" encoding](https://machinelearningmastery.com/why-one-hot-encode-data-in-machine-learning/) scheme, as follows:\n",
    "\n",
    "\n",
    "<table>\n",
    "  <tr><td>Digit</td><td>One-Hot Encoding for $Y$</td></tr>\n",
    "    <tr><td>0</td><td>1,0,0,0,0,0,0,0,0,0</td></tr>\n",
    "    <tr><td>1</td><td>0,1,0,0,0,0,0,0,0,0</td></tr>\n",
    "    <tr><td>2</td><td>0,0,1,0,0,0,0,0,0,0</td></tr>\n",
    "  <tr><td>...</td><td>...</td></tr>\n",
    "    <tr><td>9</td><td>0,0,0,0,0,0,0,0,0,1</td></tr>\n",
    "  </table>\n",
    "  The values in the columns for $Y$ are essentially true/false \"bits\" for each digit, answering the question \"Is this digit the appropriate output?\" with a \"yes\"(=1) or \"no\" (=0) response. \n",
    "\n",
    "The input $X$ will be a 10x7 matrix, and the target $Y$ will be a 10x10 matrix. Each row of $X$ will be the segments to produce the digit for that row.  For example, the zeroth row of $X$ should show segments on which make an image of the digit zero, namely segments a, b, c, d, e, and f but not g, so that the zeroth row of X should be [1,1,1,1,1,1,0].\n",
    "\n",
    "Define numpy arrays for both $X$ and $Y$  (Hint: for $Y$, check out [np.eye()](https://docs.scipy.org/doc/numpy/reference/generated/numpy.eye.html)): \n",
    "\n"
   ]
  },
  {
   "cell_type": "code",
   "execution_count": 0,
   "metadata": {
    "colab": {},
    "colab_type": "code",
    "id": "_NcAhhpmdpkQ"
   },
   "outputs": [],
   "source": [
    "# Students: fill these out completely for what the X and Y *should* be\n",
    "# for the 7-segment display.  The following is just a \"stub\" to get you started.\n",
    "X = np.array([ [1,1,1,1,1,1,0],\n",
    "               [],\n",
    "               [],\n",
    "               [] ])\n",
    "Y = np.array([ [1,0,0,0,0,0,0,0,0,0],\n",
    "               [],\n",
    "               [] ])"
   ]
  },
  {
   "cell_type": "markdown",
   "metadata": {
    "colab_type": "text",
    "id": "82Rgv7JDxTqU"
   },
   "source": [
    "### Initialize the weights\n",
    "Previously the dimensions of the weight matrix $w$ were 3x1 because we were mapping each row of 3 elements in $X$ to each row of 1 element of $Y$.  For this new problem,\n",
    "each row of $X$ has 7 elements, and we want to map those to the 10 elements in each 1-hot-encoded row of $Y$, so what should the dimensions of the weights matrix $w$ be? \n",
    "\n",
    "Write some numpy code to randomly initialize the weights matrix:"
   ]
  },
  {
   "cell_type": "code",
   "execution_count": 0,
   "metadata": {
    "colab": {
     "base_uri": "https://localhost:8080/",
     "height": 130
    },
    "colab_type": "code",
    "id": "z_mv7KWsxX0Y",
    "outputId": "8274248f-5b65-4678-e646-bdb5f68d7e93"
   },
   "outputs": [
    {
     "ename": "SyntaxError",
     "evalue": "ignored",
     "output_type": "error",
     "traceback": [
      "\u001b[0;36m  File \u001b[0;32m\"<ipython-input-7-20f53a51cded>\"\u001b[0;36m, line \u001b[0;32m1\u001b[0m\n\u001b[0;31m    w = np.random.random(( , ))\u001b[0m\n\u001b[0m                           ^\u001b[0m\n\u001b[0;31mSyntaxError\u001b[0m\u001b[0;31m:\u001b[0m invalid syntax\n"
     ]
    }
   ],
   "source": [
    "np.random.seed(1)  # initial RNG so everybody gets similar results\n",
    "\n",
    "w = np.random.random(( , ))    # Students, fill in the array dimensions here"
   ]
  },
  {
   "cell_type": "markdown",
   "metadata": {
    "colab_type": "text",
    "id": "Zlnk5YqsxYto"
   },
   "source": [
    "\n",
    "### Train the network\n",
    "Having created an $X$ and its matching $Y$, and initalized the weights $w$ randomly, train a neural network such as the ones above to learn to map a row of X to a row of Y, i.e. train it to recognize digits on 7-segment displays.  Do this below."
   ]
  },
  {
   "cell_type": "code",
   "execution_count": 0,
   "metadata": {
    "colab": {},
    "colab_type": "code",
    "id": "Z4M-oU-Bxbkc"
   },
   "outputs": [],
   "source": [
    "# Students, copy training code from above and paste it here. \n",
    "#  Use sigmoid activation, and 1000 iterations, and learning rate of 0.9\n",
    "#    Question: What happens if you use ReLU instead? Try it later. Is ReLU always the best choice?\n",
    "\n",
    "\n",
    "# And then print out your Y_pred & weights matrix, and limit it to 3 significant digits\n",
    "print(\"Output After Training:\")\n",
    "np.set_printoptions(formatter={'float': lambda x: \"{0:0.3f}\".format(x)}) # 3 sig figs\n",
    "print(\"Y_pred=\\n\",Y_pred)\n",
    "print(\"weights =\\n\",repr(w))  # the repr() makes it so it can be copied & pasted back into Python code"
   ]
  },
  {
   "cell_type": "markdown",
   "metadata": {
    "colab_type": "text",
    "id": "bUvKVaefEbv5"
   },
   "source": [
    "## Final Check: Keras version\n",
    "\n",
    "[Keras](https://keras.io/) is a neural network library that lets us write NN applications very compactly.  Try running the following using the X and Y from your 7-segment dataset:"
   ]
  },
  {
   "cell_type": "code",
   "execution_count": 0,
   "metadata": {
    "colab": {},
    "colab_type": "code",
    "id": "_enO41n0EbIw"
   },
   "outputs": [],
   "source": [
    "# Just a demo of how one might similarly train a network using Keras\n",
    "import keras\n",
    "from keras.models import Sequential\n",
    "from keras.layers import Dense, Activation\n",
    "model = Sequential([\n",
    "    Dense(10, input_shape=(7,)),\n",
    "    Activation('sigmoid') ])\n",
    "model.compile(optimizer='adam',   # We'll talk about optimizer choices and loss choices later\n",
    "              loss='categorical_crossentropy',\n",
    "              metrics=['accuracy'])\n",
    "model.fit(X, Y, epochs=200, batch_size=1)\n",
    "print(\"\\nY_tilde = \\n\", model.predict(X) )"
   ]
  },
  {
   "cell_type": "markdown",
   "metadata": {
    "colab_type": "text",
    "id": "k9TIm-AjkNG8"
   },
   "source": [
    "# Follow-up: Remarks\n",
    "\n",
    "### Re-stating what we just did\n",
    "The original problem (posed at the top of this notebook) involves mapping some points from a 3-dimensional space into points in a 1-dimensional space, i.e. to points on the number line.  The mapping is done by the combination of a weighted sum (a linear operation) and a nonlinear \"[activation function](https://en.wikipedia.org/wiki/Activation_function)\" applied to that sum. The use of an activation function like a sigmoid was originally intended to serve as an analogy of activation of biological neurons.   Nonlinear activation functions are source of the \"power\" of neural networks  (essentially we approximate some other function by means of a sum of *basis functions* in some [function space](https://en.wikipedia.org/wiki/Function_space), but don't worry about that if you're not math-inclined).   The algorithm 'learns' to approximate this operation via supervised learning and gradient descent according to some loss function.  We used the mean squared error (MSE) for our loss, but [lots](https://towardsdatascience.com/common-loss-functions-in-machine-learning-46af0ffc4d23) and [lots](https://heartbeat.fritz.ai/5-regression-loss-functions-all-machine-learners-should-know-4fb140e9d4b0) of different loss functions could be used, a few of which we'll look at another time. \n",
    "\n",
    "**Question for reflection:** Unlike fitting a line $y = mx+b$, the weighted sum in our models in this notebook had no constant \"bias\" term like $b$. How might we include such a term?\n",
    "\n",
    "### One thing we glossed over: \"[batch size](https://www.youtube.com/watch?v=vVX9vld3vrY)\"\n",
    "Question: Should we apply the gradient descent \"update\" to the weights *each time* we process a single row of $X$ & $Y$, or should we compute the combined loss of all the rows together at the same time, and *then* do the update?   This is essentially asking the same question as \"When fitting a line $mx+b$ to a bunch of data points, should we use all the points together to update $m$ and $b,$ or should we do this one point at a time -- compute the gradients of the loss at one point, update the weights, compute gradients at another point, etc.?\" \n",
    "\n",
    " The number of points you use is called the *batch size* and it is what's known as a \"hyperparameter\" -- it is not part of the model *per se*, but it is a(n important) choice *you* make when training the model.  The batch size affects the learning as follows:   Averaging the gradints for  many data points (i..e. a large batch size) will produce a smoother loss function and will also usually make the code execute more quickly through the dataset, but updating the weights for every point will cause the algorithm to learn with fewer iterations. \n",
    "\n",
    "One quick way to observe this is to go up to the Keras code above and change `batch_size` from 1 to 10, and re-execute the cell.  How is the accuracy after 200 iteractions, compared to when `batch_size=1`?\n",
    "\n",
    "*Terminology:* Technically, it's called \"batch training\" when you sum the gradients for *all* the data points before updating the weights, whereas using fewer points is  \"minibatch training\", and updating for each point (i.e. each row, for us) is Stochastic Gradient Descent*  (SGD -- more on these terms [here](https://machinelearningmastery.com/difference-between-a-batch-and-an-epoch/)).  In practice, there is a tradeoff between smaller vs. larger (mini)batches, which has been the subject of intense scrutiny by researchers over the years.  We will have more to say on this later. \n",
    "\n",
    "**For discussion later:** In our presentation above, were we using batch training, minibatch training or SGD?\n",
    "\n",
    ".\n",
    "\n",
    "\\*Note: many people will regard SGD as an optimization algorithm *per se*, and refer to doing SGD *even* for (mini)batch sizes larger than 1. "
   ]
  },
  {
   "cell_type": "markdown",
   "metadata": {
    "colab_type": "text",
    "id": "v2rcTOhkx1H8"
   },
   "source": [
    "## Optional: If you want to go really crazy\n",
    "\n",
    "How about training on this dataset:\n",
    "$$ \\overbrace{\n",
    " \\left[ {\\begin{array}{cc}\n",
    "   0 & 0 \\\\\n",
    "   0 & 1 \\\\\n",
    "   1 & 0 \\\\\n",
    "   1 & 1 \\\\\n",
    "  \\end{array} } \\right]\n",
    "}^{X} \\rightarrow\n",
    "\\overbrace{\n",
    " \\left[ {\\begin{array}{c}\n",
    "   0   \\\\\n",
    "   1  \\\\\n",
    "   1  \\\\\n",
    "   0 \\\\\n",
    "  \\end{array} } \\right]\n",
    "  }^Y.\n",
    "$$\n",
    "Good luck! ;-)   \n",
    "(Hint 1: This problem features prominently in [the history of Neural Networks](https://beamandrew.github.io/deeplearning/2017/02/23/deep_learning_101_part1.html), involving Marvin Minsky and \"AI Winter.\"   \n",
    "Hint 2: This whole lesson could instead be entitled \"My First Artificial Neuron.\")"
   ]
  },
  {
   "cell_type": "code",
   "execution_count": 0,
   "metadata": {
    "colab": {},
    "colab_type": "code",
    "id": "-ioLWJj-yRp5"
   },
   "outputs": [],
   "source": []
  },
  {
   "cell_type": "markdown",
   "metadata": {
    "colab_type": "text",
    "id": "GZ129HDAEY2e"
   },
   "source": [
    "Next time, we will go on to [Part 2: Bias and CE Loss](https://colab.research.google.com/drive/1O9xcdAQUxo7KdVhbggqLCvabc77Rj-yH#scrollTo=UwVdMLHqk1g0)."
   ]
  },
  {
   "cell_type": "code",
   "execution_count": 0,
   "metadata": {
    "colab": {},
    "colab_type": "code",
    "id": "kIy9nt0_Ecpe"
   },
   "outputs": [],
   "source": []
  },
  {
   "cell_type": "markdown",
   "metadata": {
    "colab_type": "text",
    "id": "NR1amWKQ7EYO"
   },
   "source": [
    "## Additional Optional Exercise: Binary Math vs. One-Hot Encoding\n",
    "\n",
    "For the 7-segment display, we used a one-hot encoding for our output, namely a set of true/false \"bits\" for each digit.  One may wonder how effective this ouput-encoding method is, compared to a different bit-setting encoding method, namely binary representations.\n",
    "\n",
    "1. Construct the target output matrix $Y$ for binary representations of the numbers 0 through 9.  Your target matrix should have 10 rows and 4 columns (i.e, output bits for 1s, 2s, 4s, and 8s). \n",
    "2. Using this $Y$ array, train the network as before, and plot the loss as a function of iteration.\n",
    "\n",
    "Question: Which method works 'better'?  One-hot encoding or binary encoding?\n",
    "\n"
   ]
  },
  {
   "cell_type": "code",
   "execution_count": 0,
   "metadata": {
    "colab": {},
    "colab_type": "code",
    "id": "YktLtjFN8DeV"
   },
   "outputs": [],
   "source": []
  }
 ],
 "metadata": {
  "colab": {
   "collapsed_sections": [],
   "name": "My First Neural Network.ipynb",
   "provenance": []
  },
  "kernelspec": {
   "display_name": "Python 3",
   "language": "python",
   "name": "python3"
  },
  "language_info": {
   "codemirror_mode": {
    "name": "ipython",
    "version": 3
   },
   "file_extension": ".py",
   "mimetype": "text/x-python",
   "name": "python",
   "nbconvert_exporter": "python",
   "pygments_lexer": "ipython3",
   "version": "3.6.9"
  }
 },
 "nbformat": 4,
 "nbformat_minor": 1
}
