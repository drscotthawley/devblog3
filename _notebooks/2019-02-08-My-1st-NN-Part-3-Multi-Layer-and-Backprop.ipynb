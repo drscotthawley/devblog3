{
 "cells": [
  {
   "cell_type": "markdown",
   "metadata": {
    "colab_type": "text",
    "id": "14tOCcvT_a0I"
   },
   "source": [
    "# My First NN Part 3. Multi-Layer Networks and Backpropagation\n",
    "\n",
    "> Where we expand previous lessons to larger systems\n",
    "- toc: true\n",
    "- branch: master\n",
    "- badges: true\n",
    "- comments: true\n",
    "- metadata_key1: metadata_value1\n",
    "- metadata_key2: metadata_value2\n",
    "- description: Multi-Layer Networks and Backpropagation\n",
    "- image: https://i.imgur.com/WjaQDnW.png\n",
    "- redirect_to: https://drscotthawley.github.io/blog/2019/02/08/My-1st-NN-Part-3-Multi-Layer-and-Backprop.html"
   ]
  },
  {
   "cell_type": "markdown",
   "metadata": {
    "colab_type": "text",
    "id": "-E-xQQc__daG"
   },
   "source": [
    "Links to lessons:\n",
    "[Part 0](https://drscotthawley.github.io/Following-Gravity/),\n",
    "[Part 1](https://colab.research.google.com/drive/1CPueDKDYOC33U_0qHxBhsDPpzYMpD8c8), \n",
    "[Part 2](https://colab.research.google.com/drive/1O9xcdAQUxo7KdVhbggqLCvabc77Rj-yH),\n",
    "[Part 3](https://colab.research.google.com/drive/1UZDEK-3v-SWxpDYBfamBoD4xhy7H2DEZ#scrollTo=14tOCcvT_a0I)\n",
    "\n",
    "## What is Backpropagation? \n",
    "First watch this [5-minute video on backprop by Siraj Raval](https://www.youtube.com/watch?v=q555kfIFUCM).\n",
    "\n",
    "**EDIT 2/20/2020:** ^Ravel was later revealed to be plagiarizing content. I will look for an alternative link.  The format in [my (\"flipped\") ML course last year](https://hedges.belmont.edu/~shawley/PHY2895/) involved reading things, watching *brief* videos, and modifying code. Siraj's video fit the bill last year as being *brief* & *good*. \n"
   ]
  },
  {
   "cell_type": "markdown",
   "metadata": {
    "colab_type": "text",
    "id": "DuRERcGwADM6"
   },
   "source": [
    "## A Multi-Layer Network\n",
    "Between the input $X$ and output $\\tilde{Y}$ of the network we encountered earlier, we now interpose a \"hidden layer,\" connected by two sets of weights $w^{(0)}$ and $w^{(1)}$ as shown in the figure below.  This image is a bit more complicated than diagrams one might typically encounter; I wanted to be able to show and label all the different \"parts.\"  We will explain what the various symbols mean as we continue after the figure.\n",
    "![image of multi-layer network](https://i.imgur.com/WjaQDnW.png)\n",
    "\n",
    "\n",
    "As before, the combined operation of weighted sum and nonlinear activation is referred to as a(n artificial) neuron; in the diagram above there are 4 \"hidden neurons\" --- or equivalently  \"4 neurons in the hidden layer\" --- as well as one neuron for output.  (The activations $f^{(0)}$ and $f^{(1)}$ may be the same, or they may be different.)\n",
    "\n",
    "## Semantics: What is a Layer?\n",
    "The term \"layer\" in regards to neural network is not always used consistently.  You may find it used in different senses by different authors.\n",
    "\n",
    "1. Some users of the term will only use it with repect to *weight matrices*, (since these are the parts of the network which are adjusted in learning).\n",
    "2. Others will refer to the input and (predicted) output as layers, and may or may not include the weights as layers..\n",
    "3. Others will only count  additional  \"hidden layers\" between the inputs and outputs, and these \"layers\" are *connected by* multiple weight matrices.  \n",
    "4. Some will speak of \"activation layers.\"  In software libraries like Keras, many different types of operations and storage are referred to as layers.\n",
    "\n",
    "For the work we've done so far, we've had inputs and outputs connected by one weight matrix, subject to a nonlinear activation function.  Is this a two-layer network made of input and output \"layers,\"\" or is it a single-layer network, because there is only one weight matrix?  What about the activation layer?  This is to some degree a semantic issue which one does not need to get hung up on.\n",
    "\n",
    "**For our purposes** it is convenient to refer to the inputs $X$, the 'activated' hidden states $H$, and the output $\\tilde{Y}$ as \"layers\", numbering them 0, 1, and 2 respectively, and using the script notation $\\mathcal{L}^l$ to denote each layer, where the layer index $l=0..2$, so that\n",
    "\n",
    "$$\n",
    "\\mathcal{L}^{(0)} = X, \\ \\ \\ \\ \\mathcal{L}^{(1)} = H,\\ \\ \\ \\ \\mathcal{L}^{(2)} = \\tilde{Y}\n",
    "$$\n",
    "\n",
    "This makes it easy to write the value of higher-numbered layers in terms of lower-numbed layers, i.e.,\n",
    "$$\n",
    "\\mathcal{L}^{(l+1)} = f^{(l)}\\left( {\\mathcal{L}^{(l)}}^T \\cdot w^{(l)} \\right),\n",
    "$$\n",
    "where the dot $\\cdot$ denotes a matrix product.   This is often referred to as a **\"feed foward\"** operation because values are fed from left to right in the above diagram, \"forward\" through the network.  (Backpropagation will involve feeding values from right to left.)\n",
    "\n",
    "***Response to student question(s): *** *\"What *are* neurons?  Like, what does this mean in terms of matrices?\"*\n",
    "\n",
    "This will serve as a review of the [Part 1](https://colab.research.google.com/drive/1CPueDKDYOC33U_0qHxBhsDPpzYMpD8c8) lesson.  Using the above notation, the operations from the input to the hidden layer look like this in matrix form:\n",
    "\n",
    "![matrix form of first calcs](https://i.imgur.com/hgtEpVH.png)\n",
    "...where the lines in dark red and cyan are simply to indicate sample calculations which are part of the matrix multiplication.\n",
    "\n",
    "\n",
    "\n"
   ]
  },
  {
   "cell_type": "markdown",
   "metadata": {
    "colab_type": "text",
    "id": "Xw5BW5XMBuNW"
   },
   "source": [
    "## Figuring out dimensions of the weights\n",
    "\n",
    "When we learned about matrix multipliation, we remarked that most of the time in machine learning, \"the trick is to get the inner dimensions to match.\"\n",
    "\n",
    "Let's say there are $N$ different input data \"points\" consisting of $M$ values each.  So the input $X$ is an $N\\times M$ matrix.  And let the output $\\tilde{Y}$ be a $NxP$ matrix (in our example, $P=1$).  If we were just connecting $X$ and $\\tilde{Y}$ with no hidden layer, the single weights matrix would be a $M\\times P$ matrix:\n",
    "\n",
    "$$\n",
    "(\\color{blue}N\\times \\color{red}M)\\cdot(\\color{red}M\\times \\color{green}P) = (\\color{blue}N\\times \\color{green}P)\n",
    "$$\n",
    "(The nonlinear activation doesn't change the dimensions of the matrices.)\n",
    "\n",
    "Adding a hidden layer with $Q$ number of neurons means we will still have $N$ different activations for each neuron (i.e. for each datapoint), so that $H$ is a $N\\times Q$ matrix. \n",
    "Thus the dimensions of $w^0$ must \"match\" between these two matrices, and so $w^0$ must be a $M\\times Q$ matrix:\n",
    "\n",
    " $$\n",
    "(\\color{blue}N\\times \\color{red}M)\\cdot(\\color{red}M\\times \\color{purple}Q) = (\\color{blue}N\\times \\color{purple}Q)\n",
    "$$\n",
    "Similarly $w^1$ must be a $Q\\times P$ matrix, and the full operation in terms of matrix dimensions is\n",
    "\n",
    "$$\n",
    "(\\color{blue}N\\times \\color{red}M)\\cdot(\\color{red}M\\times \\color{purple}Q)\\cdot(\\color{purple}Q\\times \\color{green}P) = (\\color{blue}N\\times \\color{green}P).\n",
    "$$\n",
    "Compare this to the diagram above for $P=1$, $Q=4$. \n",
    "\n",
    "*Note: If you add bias terms to your model, you may need to remember that the number of columns in both the input $X$ and hidden layer $H$ are greater by one, i.e. $\\color{red}{M}\\rightarrow \\color{red}{M+1}$, etc.*\n",
    "\n"
   ]
  },
  {
   "cell_type": "markdown",
   "metadata": {
    "colab_type": "text",
    "id": "DrT2Y2E1BcRf"
   },
   "source": [
    "##..a bit of code\n",
    "\n",
    "The layers $\\mathcal{L}^l$ can be represented in Python a  list called `layers` which has a of length 3.  Similarly, our weights can be items in a list called `weights`.\n",
    "Returning to our first sample problem from Part 1:"
   ]
  },
  {
   "cell_type": "code",
   "execution_count": 0,
   "metadata": {
    "colab": {
     "base_uri": "https://localhost:8080/",
     "height": 194
    },
    "colab_type": "code",
    "id": "VIEuhFFiGJ6A",
    "outputId": "a41a2c8b-9f62-4294-e17e-07b174aba071"
   },
   "outputs": [
    {
     "name": "stdout",
     "output_type": "stream",
     "text": [
      "layers [1] =\n",
      "[[-0.71619863 -0.93579012  0.4707394  -0.27924993]\n",
      " [-0.7101555  -0.1050841   0.91379718  0.29545498]\n",
      " [-1.16689961 -0.7912951   0.85311015 -0.32876382]\n",
      " [-1.16085648  0.03941092  1.29616794  0.24594109]]\n",
      "layers [2] =\n",
      "[[ 0.37453611]\n",
      " [-0.30449833]\n",
      " [-0.07951087]\n",
      " [-0.75854532]]\n"
     ]
    }
   ],
   "source": [
    "import numpy as np\n",
    "%matplotlib inline\n",
    "import matplotlib.pyplot as plt\n",
    "\n",
    "# Training data: input and target \n",
    "X = np.array([  [0,0,1],\n",
    "                [0,1,1],\n",
    "                [1,0,1],\n",
    "                [1,1,1] ])\n",
    "Y = np.array([[0,0,1,1]]).T\n",
    "\n",
    "# define auxiliary variables\n",
    "N, M, P  = X.shape[0], X.shape[1], Y.shape[1]    # infer matrix shape variables from training data\n",
    "Y_tilde = np.zeros((N,P))                        # setup storage for network output \n",
    "\n",
    "# Hidden layers\n",
    "Q = 4                     # number of hidden neurons, i.e. \"size of hidden layer\"\n",
    "H = np.zeros((N,Q))\n",
    "\n",
    "# weight matrices\n",
    "w0 = 2*np.random.random((M,Q)) - 1\n",
    "w1 = 2*np.random.random((Q,P)) - 1\n",
    "\n",
    "# Make lists for layers and weights\n",
    "layers = [X, H, Y_tilde]\n",
    "weights = [w0, w1]\n",
    "\n",
    "# Just try a sample calculation with random intialization to see how this works \n",
    "# Feed-forward (with linear activation):\n",
    "for l in range(2):\n",
    "  layers[l+1] = np.dot(layers[l], weights[l])\n",
    "  print(\"layers [\",l+1,\"] =\\n\", layers[l+1], sep=\"\")  # sep=\"\" just omits spaces"
   ]
  },
  {
   "cell_type": "markdown",
   "metadata": {
    "colab_type": "text",
    "id": "pm86BDAks7ow"
   },
   "source": [
    "Generalizing this so it will do the full feed-forward will take a bit more code.\n",
    "We'll leave a placeholder routine for backpropagation for now."
   ]
  },
  {
   "cell_type": "code",
   "execution_count": 0,
   "metadata": {
    "colab": {
     "base_uri": "https://localhost:8080/",
     "height": 212
    },
    "colab_type": "code",
    "id": "Viug88y7s7B6",
    "outputId": "21da64a0-3d95-49ea-c7eb-0a36df964564"
   },
   "outputs": [
    {
     "name": "stdout",
     "output_type": "stream",
     "text": [
      "weights[0] = \n",
      "[[-0.16595599  0.44064899 -0.99977125 -0.39533485 -0.70648822]\n",
      " [-0.81532281 -0.62747958 -0.30887855 -0.20646505  0.07763347]\n",
      " [-0.16161097  0.370439   -0.5910955   0.75623487 -0.94522481]\n",
      " [ 0.34093502 -0.1653904   0.11737966 -0.71922612 -0.60379702]]\n",
      "weights[1] = \n",
      "[[ 0.60148914]\n",
      " [ 0.93652315]\n",
      " [-0.37315164]\n",
      " [ 0.38464523]\n",
      " [ 0.7527783 ]]\n"
     ]
    }
   ],
   "source": [
    "# Activation choices\n",
    "def sigmoid(x, deriv=False): \n",
    "  f = 1/(1+np.exp(-x))\n",
    "  return f*(1-f) if deriv else f\n",
    "\n",
    "def relu(x, deriv=False):   \n",
    "  return 1*(x>0) if deriv else x*(x>0)\n",
    "\n",
    "# Placeholder routine to perform backprop.  Will fill in later\n",
    "def update_weights(weights, layers, Y, alpha, activ):\n",
    "  return weights                   # for now, it's a no-op\n",
    "\n",
    "\n",
    "def fit(layers, Y, activ=[sigmoid]*2, use_bias=True, alpha=1.0, maxiter=10000):\n",
    "  \"\"\"\n",
    "  Routine for training using a multi-layer network\n",
    "    layers:    list of layer values, i.e. layers =  [X, H, Y_tilde]\n",
    "    Y:         target output\n",
    "    activ:     list of activation functions. default = list of 2 sigmoids\n",
    "    use_bias:  Whether to include a constant offset in weighted sums\n",
    "    alpha:     learning rate\n",
    "    maxiter:   number of iterations to run\n",
    "  \"\"\"\n",
    "  lmax = len(layers)-1             # max index of layers, also = # of weights\n",
    "  \n",
    "  if use_bias:           # add a column of 1's to every layer except the last\n",
    "    for el in range(lmax):\n",
    "        new_col = np.ones((layers[el].shape[0],1)) \n",
    "        layers[el] = np.hstack((new_col, layers[el])) \n",
    "  \n",
    "  # Define weights\n",
    "  np.random.seed(1)                # for reproducibility\n",
    "  weights = [None]*lmax            # allocate slots in a blank list\n",
    "  for el in range(lmax):           # \"el\" because \"l\" and \"1\" may look similar\n",
    "    weights[el] = 2*np.random.random((layers[el].shape[1], layers[el+1].shape[1])) - 1\n",
    "        \n",
    "  loss_hist = []                   # start with an empty list\n",
    "  for iter in range(maxiter):\n",
    "\n",
    "    # Feed-forward pass\n",
    "    for el in range(lmax):\n",
    "      layers[el+1] = activ[el](np.dot(layers[el], weights[el]))\n",
    "      \n",
    "    # Loss monitoring\n",
    "    diff = layers[lmax] - Y\n",
    "    loss_hist.append( (diff**2).mean()  )    # use MSE loss for monitoring\n",
    "          \n",
    "    # Backprop code will go here\n",
    "    weights = update_weights(weights, layers, Y, alpha, activ)\n",
    "\n",
    "  return weights, layers[lmax], loss_hist        \n",
    "\n",
    "\n",
    "# Test this just to make sure it runs\n",
    "layers = [X,H,Y_tilde]\n",
    "weights, Y_tilde, loss_hist = fit(layers, Y, maxiter=1)\n",
    "for el in range(len(weights)):\n",
    "  print(\"weights[\",el,\"] = \\n\",weights[el], sep=\"\")"
   ]
  },
  {
   "cell_type": "markdown",
   "metadata": {
    "colab_type": "text",
    "id": "j5ugGBRuKMmo"
   },
   "source": [
    "...Now that we've achieved feed-foward operation of the network, in order to make it 'learn' or 'train', we need to compare the output value $\\tilde{Y}$ (which is the same as `layers[2]` by the way) to the target value, compute the gradients of the loss function, and then backpropagate in order to update all the weights!\n",
    "\n",
    "## Backpropagating: Theory\n",
    "**TL/DR: You can skip down to the last boxed equation of this section if math scares you. You will not be required to reproduce this.  I *do* want to show you \"where this stuff comes from\", but if you find the derivation too intimidating, you can still progress in the course just fine.**\n",
    "\n",
    "Let's review how we got the gradients for $w^{(1)}$ in Part 2,\n",
    "denoting weighted sums by \"$S$\", e.g. $S^l = \\mathcal{L}^l\\cdot w^l$, we just used the Chain Rule:\n",
    "$$\n",
    "{\\partial L\\over\\partial w^{(1)}} = \n",
    "\\color{blue}\n",
    "{\\partial L \\over\\partial \\mathcal{L}^{(2)}}\n",
    "\\color{green}\n",
    "{\\partial \\mathcal{L}^{(2)} \\over\\partial S^{(1)}}\n",
    "\\color{red}\n",
    "{\\partial S^{(1)} \\over\\partial w^{(1)}}\n",
    "$$\n",
    "We'll define the first partial derivative to be $\\delta^{(2)}$, which works out (given our choice of $L$ from Part 2) to be\n",
    "$$\\color{blue}{\n",
    "{\\partial L \\over\\partial \\mathcal{L}^{(2)}}\n",
    "=\\delta^{(2)} = \\tilde{Y}-Y},$$\n",
    "i.e., it is the error in the final ouput.\n",
    "The next partial derivative (in green) is just the derivative of the activation function $f$, and the last partial derivative is just $\\color{red}{\\mathcal{L}^{(1)}}$, so as we saw in the previous lesson, we can write this 'schematically' (i.e. not quite as a properly-set-up matix equation yet) as\n",
    "$$ \n",
    "{\\partial L\\over\\partial w^{(1)}} =\n",
    "\\color{blue}{\\delta^{(2)}}\n",
    " \\color{green} {f^{(1)\\prime} }\n",
    "\\color{red}{\\mathcal{L}^{(1)}} \n",
    "$$\n",
    "whereas in proper form it will take on this ordering as a matrix equation:\n",
    "$$\n",
    "\\boxed{\n",
    "{\\partial L\\over\\partial w^{(1)}} = \n",
    "{\\mathcal{L}^{(1)}}^T \\cdot \n",
    "{\\delta^{(2)}}\n",
    "{f^{(1)\\prime}}\n",
    "}.\n",
    "$$\n",
    "\n",
    "\n",
    "To get the gradients for $w^{(0)}$, we can make use of a similar \"$\\delta$\" notation if we're careful in how we define a new $\\delta^{(1)}$.  Let's write out the chain rule, and put parentheses around a particular group of terms for later:\n",
    "\n",
    "$$\n",
    "{\\partial L\\over\\partial w^{(0)}} = \n",
    "\\color{blue}{\n",
    "\\left(\n",
    "{\\partial L \\over\\partial \\mathcal{L}^{(2)}}\n",
    "{\\partial \\mathcal{L}^{(2)} \\over\\partial S^{(1)}}\n",
    "{\\partial S^{(1)} \\over\\partial \\mathcal{L}^{(1)}}\n",
    "\\right)}\n",
    "\\color{green}\n",
    "{\\partial \\mathcal{L}^{(1)} \\over\\partial S^{(0)}}\n",
    "\\color{red}\n",
    "{\\partial S^{(0)} \\over\\partial w^{(0)}}\n",
    "$$\n",
    "In a manner similar to what we did above, this can be written as\n",
    "$$\n",
    "{\\partial L\\over\\partial w^{(0)}} =\n",
    "\\color{blue}{\n",
    "\\left(\\delta^{(2)}f^{(1)\\prime}w^{(1)}\\right)}\n",
    "\\color{green}{f^{(0)\\prime}}\n",
    "\\color{red}{\\mathcal{L^{(0)}}}\n",
    "$$ \n",
    "We now *define* the terms in parentheses as $\\delta^{(1)}$\n",
    "\n",
    "$$\n",
    "\\color{blue}{\n",
    "\\delta^{(1)} =  \\delta^{(2)}f^{(1)\\prime}w^{(1)}\n",
    "},\n",
    "$$\n",
    "...which is *kind of* like \"the error in the hidden layer,\" or like the  final solution error projected backward into the hidden layers via our (momentarily fixed) weights $w^{(1)}$.\n",
    "\n",
    "Then our gradients for $w^{(0)}$ take on a similar form as the gradients for $w^{(1)}$. 'Schematically' this looks like \n",
    "$$\n",
    "{\\partial L\\over\\partial w^{(0)}} =\n",
    "\\color{blue}{\\delta^{(1)}}\n",
    "\\color{green}{f^{(0)\\prime}}\n",
    "\\color{red}{\\mathcal{L^{(0)}}}\n",
    "$$\n",
    "and in proper matrix form this is\n",
    "$$\n",
    "\\boxed{\n",
    "{\\partial L\\over\\partial w^{(0)}} =\n",
    "{\\mathcal{L}^{(0)}}^T \\cdot \n",
    "{\\delta^{(1)}}\n",
    "{f^{(0)\\prime}}\n",
    "},\n",
    "$$\n",
    "i.e., the *same form* as the preceding layer, just \"back\" one layer. We are backpropagating the errors $\\delta^{(l)}$ from one layer to another in order to update the weights. \n",
    "\n",
    "The weights are then updated as before, except now we will write this 'generically' for all weights and layers using the index $l$:\n",
    "$$\n",
    "\\boxed{\n",
    "w^{(l)} := w^{(l)} - \\alpha {\\mathcal{L}^{(l)}}^T \\cdot \n",
    "{\\delta^{(l+1)}}\n",
    "{f^{(l)\\prime}}\n",
    "},\n",
    "$$\n",
    "where\n",
    "$$\n",
    "\\delta^{(l+1)} = \\left\\{ \\begin{array}{l} \n",
    "\\tilde{Y}-Y,\\ \\ \\  &\\ &l+1=l_{max} \\ \\ \\ \\ ({\\rm e.g.} \\ l_{max}=2)\\\\\n",
    "\\delta^{(l+2)}f^{(l+1)\\prime}\\cdot {w^{(l+1)}}^T, &\\ &l+1 < l_{max}\n",
    "\\end{array}\\right.\n",
    "$$\n",
    "\n",
    "## Writing the Backprop Code\n",
    "Now we'll use the above analysis to replace the `update_weights()` function from earlier.\n"
   ]
  },
  {
   "cell_type": "code",
   "execution_count": 0,
   "metadata": {
    "colab": {
     "base_uri": "https://localhost:8080/",
     "height": 278
    },
    "colab_type": "code",
    "id": "sKsYzNwC3qVw",
    "outputId": "ad066419-5454-4c38-8bac-185d3963fe84"
   },
   "outputs": [
    {
     "data": {
      "image/png": "[encoded data removed]",
      "text/plain": [
       "<Figure size 432x288 with 1 Axes>"
      ]
     },
     "metadata": {
      "tags": []
     },
     "output_type": "display_data"
    }
   ],
   "source": [
    "def update_weights(weights, layers, Y, alpha, activ):\n",
    "  \"\"\"\n",
    "  Backprop routine, for arbitrary numbers of layers, assuming weights & \n",
    "  activations are defined\n",
    "  \n",
    "  Inputs:\n",
    "    weights: list of arrays of weights between each layer\n",
    "    layers:  list of arrays of layer values (post-activation function)\n",
    "    Y:       target output\n",
    "    alpha:   learning rate\n",
    "    activ:   list of activation functions for each (non-input) layer\n",
    "  Outputs:\n",
    "    weights (updated)\n",
    "  \"\"\"\n",
    "  lmax = len(layers) - 1                        # a useful variable\n",
    "  assert len(weights)==lmax                     # make sure number of weights match up\n",
    "  assert len(activ) >= lmax                     # make sure we defined enough activations for the layers\n",
    "    \n",
    "  delta = layers[lmax] - Y                      # error between output and target\n",
    "  \n",
    "  for el in range(lmax-1, -1, -1):              # Count backwards to layer zero\n",
    "    fprime = activ[el](np.dot(layers[el], weights[el]), deriv=True)   # deriv of activation\n",
    "    weights[el] -= alpha * np.dot( layers[el].T, delta*fprime )       # gradient descent step\n",
    "    delta = np.dot(delta*fprime, weights[el].T) if (el>0) else None   # setup delta for next pass in loop\n",
    "\n",
    "  return weights           \n",
    "\n",
    "# Let's run it!\n",
    "layers = [X, H, Y_tilde]\n",
    "alpha = 0.1\n",
    "maxiter=5000\n",
    "weights, Y_tilde, loss_hist_2weights = fit(layers, Y, alpha=alpha, maxiter=maxiter)\n",
    "\n",
    "# compare against a 1-weight (no hidden layer) network:\n",
    "layers = [X, Y_tilde]\n",
    "weights, Y_tilde, loss_hist_1weight = fit(layers, Y, alpha=alpha, maxiter=maxiter)\n",
    "\n",
    "# Plot the loss history\n",
    "plt.semilogy(loss_hist_1weight, label=\"No hidden layers\")\n",
    "plt.semilogy(loss_hist_2weights, label=\"Hidden layer\")\n",
    "plt.legend()\n",
    "plt.xlabel(\"Iteration\")\n",
    "plt.ylabel(\"Loss\")\n",
    "plt.show()"
   ]
  },
  {
   "cell_type": "code",
   "execution_count": 0,
   "metadata": {
    "colab": {
     "base_uri": "https://localhost:8080/",
     "height": 296
    },
    "colab_type": "code",
    "id": "0sO8d02Zj7My",
    "outputId": "191af328-fe8e-46e5-b71b-7af921dbc7a8"
   },
   "outputs": [
    {
     "data": {
      "text/plain": [
       "Text(0, 0.5, 'Loss')"
      ]
     },
     "execution_count": 4,
     "metadata": {
      "tags": []
     },
     "output_type": "execute_result"
    },
    {
     "data": {
      "image/png": "[encoded data removed]",
      "text/plain": [
       "<Figure size 432x288 with 1 Axes>"
      ]
     },
     "metadata": {
      "tags": []
     },
     "output_type": "display_data"
    }
   ],
   "source": [
    "# Let's add more hidden neurons\n",
    "Q = 50                     # number of hidden neurons, i.e. \"size of hidden layer\"\n",
    "H = np.zeros((N,Q))\n",
    "\n",
    "layers = [X, H, Y_tilde]\n",
    "weights, Y_tilde, loss_hist_many = fit(layers, Y, alpha=alpha, maxiter=maxiter)\n",
    "\n",
    "# try a relu activation for the hidden layer (leave output activ as sigmoid!)\n",
    "weights, Y_tilde, lhm_relu = fit(layers, Y, alpha=alpha, activ=[relu,sigmoid], maxiter=maxiter)\n",
    "\n",
    "plt.semilogy(loss_hist_1weight, label=\"0 hidden neurons\")\n",
    "plt.semilogy(loss_hist_2weights, label=\"4 hidden neurons\")\n",
    "plt.semilogy(loss_hist_many, label=\"many hidden neurons\")\n",
    "plt.semilogy(lhm_relu, label=\"many, relu on hidden\")\n",
    "\n",
    "plt.legend()\n",
    "plt.xlabel(\"Iteration\")\n",
    "plt.ylabel(\"Loss\")"
   ]
  },
  {
   "cell_type": "markdown",
   "metadata": {
    "colab_type": "text",
    "id": "9QO_UCYo_b0n"
   },
   "source": [
    "## Solving XOR\n",
    "Now let's revisit the \"XOR\" problem that a single neuron couldn't handle.  \n",
    "\n",
    "$$ \\overbrace{\n",
    " \\left[ {\\begin{array}{cc}\n",
    "    0 & 0 \\\\\n",
    "    0 & 1 \\\\\n",
    "    1 & 0 \\\\\n",
    "    1 & 1 \\\\\n",
    "  \\end{array} } \\right]\n",
    "}^{X} \\rightarrow\n",
    "\\overbrace{\n",
    " \\left[ {\\begin{array}{c}\n",
    "   0   \\\\\n",
    "   1  \\\\\n",
    "   1  \\\\\n",
    "   0 \\\\\n",
    "  \\end{array} } \\right]\n",
    "  }^Y.\n",
    "$$\n",
    "With our multi-layer network, we can solve this.  Note that while an exact solution to the XOR problem exists using only 2 hidden neurons and linear activations, a program can still have a hard time *finding* a good approximation via gradient descent, and we use 20 hidden neurons to assist, as follows:"
   ]
  },
  {
   "cell_type": "code",
   "execution_count": 0,
   "metadata": {
    "colab": {
     "base_uri": "https://localhost:8080/",
     "height": 335
    },
    "colab_type": "code",
    "id": "1LAodLrS77IN",
    "outputId": "145db301-a6ec-4cca-dda3-5abf1d24e9cb"
   },
   "outputs": [
    {
     "name": "stdout",
     "output_type": "stream",
     "text": [
      "Prediction Y_tilde = [[0.00480128 0.9962425  0.9963109  0.00374649]]\n",
      "Target Y (correct answer)  = [[0 1 1 0]]\n"
     ]
    },
    {
     "data": {
      "text/plain": [
       "[<matplotlib.lines.Line2D at 0x7f9283c17550>]"
      ]
     },
     "execution_count": 5,
     "metadata": {
      "tags": []
     },
     "output_type": "execute_result"
    },
    {
     "data": {
      "image/png": "[encoded data removed]",
      "text/plain": [
       "<Figure size 432x288 with 1 Axes>"
      ]
     },
     "metadata": {
      "tags": []
     },
     "output_type": "display_data"
    }
   ],
   "source": [
    "X = np.array([[0,0],[0,1],[1,0],[1,1]])\n",
    "Y = np.array([[0,1,1,0]]).T\n",
    "Y_tilde = 0*Y                         # Just allocate some storage\n",
    "H = np.zeros((N,20))                  \n",
    "\n",
    "weights, Y_tilde, loss_hist_xor = fit([X,H,Y_tilde], Y, activ=[relu,sigmoid], alpha=0.5)\n",
    "print(\"Prediction Y_tilde =\",Y_tilde.T)\n",
    "print(\"Target Y (correct answer)  =\",Y.T)\n",
    "plt.xlabel(\"Iteration\")\n",
    "plt.ylabel(\"Loss\")\n",
    "plt.loglog(loss_hist_xor)\n",
    "#print(\"weights = \",weights)"
   ]
  },
  {
   "cell_type": "markdown",
   "metadata": {
    "colab_type": "text",
    "id": "uk_FycPfH-Fw"
   },
   "source": [
    "# Same thing using neural network libraries Keras & PyTorch.\n",
    "Since most of the time we won't be writing neural network systems \"from scratch, by hand\" in numpy, let's take a look at similar operations using libraries such as Keras or PyTorch. \n",
    "\n",
    "## Keras version\n",
    "[Keras](https://keras.io/) is so simple to set up, it's easy to get started. This is what the previous example for XOR looks like \"in Keras\":"
   ]
  },
  {
   "cell_type": "code",
   "execution_count": 0,
   "metadata": {
    "colab": {
     "base_uri": "https://localhost:8080/",
     "height": 123
    },
    "colab_type": "code",
    "id": "pS228ETyASBZ",
    "outputId": "3aac9f26-15d4-4b8f-b65b-5c7ca903caca"
   },
   "outputs": [
    {
     "name": "stdout",
     "output_type": "stream",
     "text": [
      "\n",
      "Y_tilde = \n",
      " [[0.00]\n",
      " [1.00]\n",
      " [1.00]\n",
      " [0.00]]\n"
     ]
    }
   ],
   "source": [
    "import keras\n",
    "from keras.models import Sequential\n",
    "from keras.layers import Dense, Activation\n",
    "from keras.optimizers import Adam\n",
    "\n",
    "# training data\n",
    "X = np.array([[0,0],[0,1],[1,0],[1,1]])\n",
    "Y = np.array([[0,1,1,0]]).T\n",
    "\n",
    "# specify model\n",
    "n_hidden = 20\n",
    "model = Sequential([\n",
    "    Dense(n_hidden, input_shape=(X.shape[1],), activation='relu'),\n",
    "    Dense(1, activation='sigmoid')])\n",
    "\n",
    "# choices for loss and optimization method\n",
    "opt = Adam(lr=alpha)   # We'll talk about optimizer choices later\n",
    "model.compile(optimizer=opt, loss='binary_crossentropy',metrics=['binary_accuracy'])\n",
    "\n",
    "# training iterations\n",
    "model.fit(X, Y, epochs=maxiter, batch_size=1, verbose=0)\n",
    "\n",
    "print(\"\\nY_tilde = \\n\", model.predict(X) )"
   ]
  },
  {
   "cell_type": "markdown",
   "metadata": {
    "colab_type": "text",
    "id": "6ICN197PVxgI"
   },
   "source": [
    "Keras can get a better appoximation than we did because of the choice of optimizer algorithm. We'll talk about optimization algorithms (refinements to gradient descent) another time. "
   ]
  },
  {
   "cell_type": "markdown",
   "metadata": {
    "colab_type": "text",
    "id": "qpP-drLrT2Kn"
   },
   "source": [
    "## PyTorch version\n",
    "Unlike Keras, [PyTorch](https://pytorch.org/) does not have any \"training wheels.\"  You have to specify a number of the operations yourself.  It's helpful to have a template to start from, such as the following example for our XOR problem."
   ]
  },
  {
   "cell_type": "code",
   "execution_count": 0,
   "metadata": {
    "colab": {
     "base_uri": "https://localhost:8080/",
     "height": 402
    },
    "colab_type": "code",
    "id": "q3ICqFUEMA7U",
    "outputId": "1ef4eeb7-2011-4271-fc4d-4da4ec054830"
   },
   "outputs": [
    {
     "name": "stdout",
     "output_type": "stream",
     "text": [
      "\n",
      "Y_tilde = \n",
      " [[2.9910339e-07]\n",
      " [9.9999976e-01]\n",
      " [9.9999964e-01]\n",
      " [3.4460226e-07]]\n"
     ]
    },
    {
     "data": {
      "text/plain": [
       "[<matplotlib.lines.Line2D at 0x7f38a9fcfe80>]"
      ]
     },
     "execution_count": 7,
     "metadata": {
      "tags": []
     },
     "output_type": "execute_result"
    },
    {
     "data": {
      "image/png": "[encoded data removed]",
      "text/plain": [
       "<Figure size 432x288 with 1 Axes>"
      ]
     },
     "metadata": {
      "tags": []
     },
     "output_type": "display_data"
    }
   ],
   "source": [
    "import torch                  # it's 'PyTorch' but the package is 'torch'\n",
    "device = torch.device('cpu')  # handy for changing to 'cuda' in GPU runtimes later!\n",
    "\n",
    "torch.manual_seed(1)  # for reproducibility\n",
    "\n",
    "# training data\n",
    "X = np.array([[0,0],[0,1],[1,0],[1,1]],dtype=np.float32)\n",
    "Y = np.array([[0,1,1,0]],dtype=np.float32).T\n",
    "\n",
    "# re-cast data as PyTorch variables, on the device (CPU or GPU) were calc's are performed\n",
    "x, y = torch.tensor(X).to(device), torch.tensor(Y).to(device)   \n",
    "\n",
    "# specify model (similar to Keras but not quite)\n",
    "n_hidden = 20                           # number of hidden neurons\n",
    "model = torch.nn.Sequential(\n",
    "          torch.nn.Linear(X.shape[1], n_hidden),\n",
    "          torch.nn.ReLU(),\n",
    "          torch.nn.Linear(n_hidden, 1),\n",
    "          torch.nn.Sigmoid()\n",
    "        ).to(device)\n",
    "\n",
    "# choices for loss and optimization method\n",
    "loss_fn = torch.nn.BCELoss()      # binary cross-entropy loss\n",
    "optimizer = torch.optim.Adam([{'params': model.parameters()}], lr=alpha)\n",
    "\n",
    "# training iterations\n",
    "loss_hist_pytorch = []\n",
    "for iter in range(maxiter):\n",
    "  optimizer.zero_grad()                  # set gradients=0 before calculating more\n",
    "  y_tilde = model(x)                     # feed-forward step\n",
    "  loss = loss_fn(y_tilde, y)             # compute the loss\n",
    "  loss_hist_pytorch.append(loss.item())  # save loss for plotting later\n",
    "  loss.backward()                        # compute gradients via backprop\n",
    "  optimizer.step()                       # actually update the weights\n",
    "\n",
    "# print and plot our results\n",
    "print(\"\\nY_tilde = \\n\", y_tilde.cpu().data.numpy() )\n",
    "plt.xlabel(\"Iteration\")\n",
    "plt.ylabel(\"Loss\")\n",
    "plt.loglog(loss_hist_pytorch)"
   ]
  },
  {
   "cell_type": "markdown",
   "metadata": {
    "colab_type": "text",
    "id": "3SLVvDOcW27k"
   },
   "source": [
    "# Exercise: Exploring Hidden Layers.\n",
    "\n",
    "## More with the 7-segment display\n",
    "\n",
    "Using the $X$ and $Y$ arrays for from previous exercices with the 7-segment display, we'll explore the effects of adding hidden neurons and different activation functions.  Using the code template that follows below,...\n"
   ]
  },
  {
   "cell_type": "markdown",
   "metadata": {
    "colab_type": "text",
    "id": "JOQk8PVxhUdR"
   },
   "source": [
    "### A. Explore hidden layer sizes & activations\n",
    "\n",
    "1. Write code for a *new* activation function: $\\tanh(x)$ and its derivative. **Note: there is already placeholder code for this in the template below**\n",
    "2. Set training data to be that of the 7-segment display. \n",
    "3. Choose  (for yourself) a single learning rate (e.g. $\\alpha=$0.5), and a standard number of iterations (e.g. 10000).\n",
    "\n",
    "Then compare results for multiple networks (all with ~~softmax~~sigmoid activation on the end):\n",
    "1.  A single hidden layer with 20 neurons and (for the hidden layer)...\n",
    "   - sigmoid activation\n",
    "   - relu activation\n",
    "   - tanh activation\n",
    "\n",
    "2.  A single hidden layer with 100 neurons and (for the hidden layer)...\n",
    "   - sigmoid activation\n",
    "   - relu activation\n",
    "   - tanh activation\n",
    "\n",
    "### B. Explore multiple hidden layers\n",
    "3. Now use two hidden layers, H and H2 with 10 neurons each, and experiment to *find the best combination* of activations, and best choice of learning rate that gives you the lowest loss at the end of your chosen number of iterations.  Check that your predicted output is as you expect. \n",
    "\n",
    "### Assignment:# \n",
    "Upload a text file of the code for your \"winning\" entry for #3 to Blackboard.   Use the code below as a template."
   ]
  },
  {
   "cell_type": "code",
   "execution_count": 0,
   "metadata": {
    "colab": {
     "base_uri": "https://localhost:8080/",
     "height": 371
    },
    "colab_type": "code",
    "id": "5FaFfspWxCnk",
    "outputId": "f5190ab7-ff88-483f-c636-65bb7c2eb9f9"
   },
   "outputs": [
    {
     "name": "stdout",
     "output_type": "stream",
     "text": [
      "Prediction Y_tilde =\n",
      " [[0.01 0.99 0.99 0.01]]\n",
      "Target Y (correct answer)  =\n",
      " [[0.00 1.00 1.00 0.00]]\n"
     ]
    },
    {
     "data": {
      "text/plain": [
       "[<matplotlib.lines.Line2D at 0x7f928397cf98>]"
      ]
     },
     "execution_count": 6,
     "metadata": {
      "tags": []
     },
     "output_type": "execute_result"
    },
    {
     "data": {
      "image/png": "[encoded data removed]",
      "text/plain": [
       "<Figure size 432x288 with 1 Axes>"
      ]
     },
     "metadata": {
      "tags": []
     },
     "output_type": "display_data"
    }
   ],
   "source": [
    "## TEMPLATE CODE. Scroll down to \"MAKE YOUR CHANGES BELOW\", below\n",
    "import numpy as np\n",
    "import matplotlib.pyplot as plt\n",
    "\n",
    "### LEAVE THIS UNCHANGED\n",
    "# First, let's repeat the sigmoid(), relu(), update_weights() and fit() routines\n",
    "# already defined, so we have a'standalone' code and can easily make changes\n",
    "\n",
    "# Activation choices\n",
    "def sigmoid(x, deriv=False): \n",
    "  f = 1/(1+np.exp(-x))\n",
    "  return f*(1-f) if deriv else f\n",
    "\n",
    "def relu(x, deriv=False):   \n",
    "  return 1*(x>0) if deriv else x*(x>0)\n",
    "\n",
    "# Backpropagation routine\n",
    "def update_weights(weights, layers, Y, alpha, activ):\n",
    "  lmax = len(layers) - 1                        # a useful variable\n",
    "  assert len(weights)==lmax                     # make sure number of weights match up\n",
    "  assert len(activ) >= lmax                     # make sure we defined enough activations for the layers\n",
    "    \n",
    "  delta = layers[lmax] - Y                      # error between output and target\n",
    "  \n",
    "  for el in range(lmax-1, -1, -1):              # Count backwards to layer zero\n",
    "    fprime = activ[el](np.dot(layers[el], weights[el]), deriv=True)   # deriv of activation\n",
    "    weights[el] -= alpha * np.dot( layers[el].T, delta*fprime )       # gradient descent step\n",
    "    delta = np.dot(delta*fprime, weights[el].T) if (el>0) else None   # setup delta for next pass in loop\n",
    "\n",
    "  return weights           \n",
    "\n",
    "# Routine for training via gradient descent\n",
    "def fit(layers, Y, activ=[sigmoid]*2, use_bias=True, alpha=1.0, maxiter=10000):\n",
    "  lmax = len(layers)-1             # max index of layers, also = # of weights\n",
    "  \n",
    "  if use_bias:           # add a column of 1's to every layer except the last\n",
    "    for el in range(lmax):\n",
    "        new_col = np.ones((layers[el].shape[0],1)) \n",
    "        layers[el] = np.hstack((new_col, layers[el])) \n",
    "  \n",
    "  # Define weights\n",
    "  np.random.seed(1)                # for reproducibility\n",
    "  weights = [None]*lmax            # allocate slots in a blank list\n",
    "  for el in range(lmax):           # \"el\" because \"l\" and \"1\" may look similar\n",
    "    weights[el] = 2*np.random.random((layers[el].shape[1], layers[el+1].shape[1]))-1 \n",
    "            \n",
    "  loss_hist = []                   # start with an empty list\n",
    "  for iter in range(maxiter):\n",
    "\n",
    "    # Feed-forward pass\n",
    "    for el in range(lmax):\n",
    "      layers[el+1] = activ[el](np.dot(layers[el], weights[el]))\n",
    "    Y_tilde = layers[lmax]\n",
    "      \n",
    "    # Loss monitoring\n",
    "    diff = Y_tilde - Y\n",
    "    loss_hist.append( (diff**2).mean()  )    # use MSE loss for monitoring\n",
    "          \n",
    "    # Backprop code will go here\n",
    "    weights = update_weights(weights, layers, Y, alpha, activ)\n",
    "\n",
    "  return weights, Y_tilde, loss_hist \n",
    "\n",
    "\n",
    "##### END OF PART TO LEAVE UNCHANGED\n",
    "\n",
    "\n",
    "#####---------------  MAKE YOUR CHANGES BELOW ------------##############\n",
    "\n",
    "# define the tanh activation function\n",
    "def tanh(x, deriv=False):\n",
    "  if deriv:\n",
    "    pass # *** Students: replace 'pass' with what the derivative should be\n",
    "  return np.tanh(x)\n",
    "\n",
    "\n",
    "## Students: replace X, Y with 7-segment data instead\n",
    "X = np.array([[0,0],[0,1],[1,0],[1,1]],dtype=np.float32)\n",
    "Y = np.array([[0,1,1,0]],dtype=np.float32).T\n",
    "\n",
    "\n",
    "Y_tilde = np.copy(Y)                     # Just allocates some storage for Y_tilde\n",
    "\n",
    "##  Hidden layers: Students: Change Q, the number of hidden neurons, as needed\n",
    "Q = 10\n",
    "N = X.shape[0]                           # this just grabs the number of rows in X\n",
    "H = np.zeros((N,Q))                  \n",
    "H2 = np.zeros((N,Q))                     # extra hidden layer, might not be used\n",
    "\n",
    "## Students: change this as instructed\n",
    "layers = [X, H, Y_tilde]              # later, add another layer H2 when instructed\n",
    "activ = [sigmoid, sigmoid, sigmoid]   # change the first (2) activation(s) as instructed\n",
    "alpha = 0.5                           # play around with this\n",
    "\n",
    "\n",
    "## LEAVE THIS PART UNCHANGED\n",
    "weights, Y_tilde, loss_hist = fit(layers, Y, activ=activ, alpha=alpha)\n",
    "np.set_printoptions(formatter={'float': lambda x: \"{0:0.2f}\".format(x)}) # 2 sig figs\n",
    "print(\"Prediction Y_tilde =\\n\",Y_tilde.T)\n",
    "print(\"Target Y (correct answer)  =\\n\",Y.T)\n",
    "plt.xlabel(\"Iteration\")\n",
    "plt.ylabel(\"Loss\")\n",
    "plt.loglog(loss_hist)"
   ]
  },
  {
   "cell_type": "markdown",
   "metadata": {
    "colab_type": "text",
    "id": "C_P041pDxFnq"
   },
   "source": [
    "## Preview of next lesson: MNIST \n",
    "\n",
    "Now that you've built up some experience with reading digits, let's move to handwritten digits!  This is a problem usually solved with an architecture called a Convolutional Neural Network, but our ordinary feed-forward network can do it too. \n",
    "\n",
    "The [MNIST database of handwritten digits](http://yann.lecun.com/exdb/mnist/) is a classic dataset that every ML student works on.  It consists of a large number images of handwritten digits only 28x28 pixels in size.  We will \"flatten\" these into a row of 784 columns, and output a $\\tilde{Y}$ of one-hot-encoded vectore just like we did for the output of the 7-segment display (same digits, 0 to 9!). "
   ]
  },
  {
   "cell_type": "code",
   "execution_count": 0,
   "metadata": {
    "colab": {},
    "colab_type": "code",
    "id": "JLiK6NN8xGci"
   },
   "outputs": [],
   "source": []
  }
 ],
 "metadata": {
  "accelerator": "GPU",
  "colab": {
   "collapsed_sections": [],
   "name": "My 1st NN Part 3 - Multi-Layer and Backprop.ipynb",
   "provenance": []
  },
  "kernelspec": {
   "display_name": "Python 3",
   "language": "python",
   "name": "python3"
  },
  "language_info": {
   "codemirror_mode": {
    "name": "ipython",
    "version": 3
   },
   "file_extension": ".py",
   "mimetype": "text/x-python",
   "name": "python",
   "nbconvert_exporter": "python",
   "pygments_lexer": "ipython3",
   "version": "3.6.9"
  }
 },
 "nbformat": 4,
 "nbformat_minor": 1
}
